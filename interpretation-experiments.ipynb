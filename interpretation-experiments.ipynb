{
 "cells": [
  {
   "cell_type": "markdown",
   "id": "7c26c493-d2cc-4f20-9bb1-daecce8f60c8",
   "metadata": {},
   "source": [
    "## Init"
   ]
  },
  {
   "cell_type": "code",
   "execution_count": 263,
   "id": "cd479a98-ee2d-46b8-8389-0d82600fe1de",
   "metadata": {},
   "outputs": [],
   "source": [
    "from collections import Counter\n",
    "import numpy as np\n",
    "import matplotlib.pyplot as plt\n",
    "import seaborn as sns\n",
    "import gc\n",
    "from copy import deepcopy\n",
    "from tqdm.auto import tqdm, trange\n",
    "import re\n",
    "import torch\n",
    "from torch import nn\n",
    "import torch.nn.functional as F\n",
    "from collections import defaultdict\n",
    "from utils import load_imdb\n",
    "from transformers import AutoModelForCausalLM, AutoTokenizer\n",
    "\n",
    "sns.set_palette('colorblind')\n",
    "cmap = sns.color_palette('colorblind')"
   ]
  },
  {
   "cell_type": "code",
   "execution_count": 2,
   "id": "1e2c998d-4527-40fe-b29d-27a32cb20267",
   "metadata": {},
   "outputs": [],
   "source": [
    "device = 'cuda'\n",
    "model = AutoModelForCausalLM.from_pretrained('gpt2-medium').to(device)\n",
    "tokenizer = AutoTokenizer.from_pretrained(\"gpt2-medium\")"
   ]
  },
  {
   "cell_type": "markdown",
   "id": "d030de0b-8af4-4040-9ba5-2d87341596b9",
   "metadata": {},
   "source": [
    "### Parameter Extraction"
   ]
  },
  {
   "cell_type": "code",
   "execution_count": 3,
   "id": "a48c95ff-9ac6-4a61-91b5-475b1a05026b",
   "metadata": {
    "tags": []
   },
   "outputs": [],
   "source": [
    "emb = model.get_output_embeddings().weight.data.T\n",
    "num_layers = model.config.n_layer\n",
    "num_heads = model.config.n_head\n",
    "hidden_dim = model.config.n_embd\n",
    "head_size = hidden_dim // num_heads\n",
    "\n",
    "K = torch.cat([model.get_parameter(f\"transformer.h.{j}.mlp.c_fc.weight\").T\n",
    "                           for j in range(num_layers)]).detach()\n",
    "V = torch.cat([model.get_parameter(f\"transformer.h.{j}.mlp.c_proj.weight\")\n",
    "                           for j in range(num_layers)]).detach()\n",
    "W_Q, W_K, W_V = torch.cat([model.get_parameter(f\"transformer.h.{j}.attn.c_attn.weight\") \n",
    "                           for j in range(num_layers)]).detach().chunk(3, dim=-1)\n",
    "W_O = torch.cat([model.get_parameter(f\"transformer.h.{j}.attn.c_proj.weight\") \n",
    "                           for j in range(num_layers)]).detach()\n",
    "\n",
    "K_heads = K.reshape(num_layers, -1, hidden_dim)\n",
    "V_heads = V.reshape(num_layers, -1, hidden_dim)\n",
    "d_int = K_heads.shape[1]\n",
    "\n",
    "W_V_heads = W_V.reshape(num_layers, hidden_dim, num_heads, head_size).permute(0, 2, 1, 3)\n",
    "W_O_heads = W_O.reshape(num_layers, num_heads, head_size, hidden_dim)\n",
    "W_Q_heads = W_Q.reshape(num_layers, hidden_dim, num_heads, head_size).permute(0, 2, 1, 3)\n",
    "W_K_heads = W_K.reshape(num_layers, hidden_dim, num_heads, head_size).permute(0, 2, 1, 3)"
   ]
  },
  {
   "cell_type": "code",
   "execution_count": 4,
   "id": "f67fe00c-2b3f-43b9-8356-0b46dac0687b",
   "metadata": {
    "tags": []
   },
   "outputs": [
    {
     "name": "stderr",
     "output_type": "stream",
     "text": [
      "Reusing dataset imdb (/home/guydar/.cache/huggingface/datasets/imdb/plain_text/1.0.0/e3c66f1788a67a89c7058d97ff62b6c30531e05b549de56d3ab91891f0561f9a)\n"
     ]
    },
    {
     "data": {
      "application/vnd.jupyter.widget-view+json": {
       "model_id": "1b62511fae904a08b1eae90e02fd1de2",
       "version_major": 2,
       "version_minor": 0
      },
      "text/plain": [
       "  0%|          | 0/3 [00:00<?, ?it/s]"
      ]
     },
     "metadata": {},
     "output_type": "display_data"
    }
   ],
   "source": [
    "sents = load_imdb()\n",
    "sents = [s for s in sents if len(s) > 100]"
   ]
  },
  {
   "cell_type": "code",
   "execution_count": 5,
   "id": "5ce6b564-e8e5-4a94-9e23-7f761b4d4de9",
   "metadata": {},
   "outputs": [],
   "source": [
    "ln_f = model.transformer.ln_f\n",
    "emb_cpu = deepcopy(emb).cpu()\n",
    "ln_f_cpu = deepcopy(ln_f).cpu()\n",
    "emb_func = lambda x: ln_f_cpu(x) @ emb_cpu\n",
    "E1 = emb"
   ]
  },
  {
   "cell_type": "markdown",
   "id": "a98daaca-0465-4822-a115-52af78afcc6c",
   "metadata": {},
   "source": [
    "### Functions"
   ]
  },
  {
   "cell_type": "code",
   "execution_count": 121,
   "id": "ca599149-7928-4d1d-956f-807316033771",
   "metadata": {},
   "outputs": [],
   "source": [
    "def dist_matmul(A, B, dist_B=False):\n",
    "    if dist_B:\n",
    "        return dist_matmul(B.T, A.T, dist_B=False).T\n",
    "    B_module = nn.Linear(*B.shape).to(B.device)\n",
    "    with torch.no_grad():\n",
    "        nn.init.zeros_(B_module.bias)\n",
    "        B_module.weight.set_(B.T)\n",
    "    B_module = nn.DataParallel(B_module)\n",
    "    res = B_module(A)\n",
    "    del B_module\n",
    "    return res"
   ]
  },
  {
   "cell_type": "code",
   "execution_count": 122,
   "id": "c60a514a-762b-4877-88e2-82782eaca938",
   "metadata": {},
   "outputs": [],
   "source": [
    "def get_token_freqs(sents):\n",
    "    token_probs_dict = Counter()\n",
    "    for s in tqdm(sents):\n",
    "        for t in tokenizer.encode(s):\n",
    "            token_probs_dict[t] += 1\n",
    "    return token_probs_dict"
   ]
  },
  {
   "cell_type": "code",
   "execution_count": 123,
   "id": "9c92194b-ea12-418e-8e6e-2e779d2d7b57",
   "metadata": {},
   "outputs": [],
   "source": [
    "def _batched_recall_metric(xs, y, k=20, k2=3, only_ascii=False):\n",
    "    if k2 is None:\n",
    "        k2 = k\n",
    "    out = []\n",
    "    xs_idx = torch.topk(xs, k=k, dim=-1).indices\n",
    "    y_idx = torch.topk(y, k=k2, dim=-1).indices\n",
    "    for i in range(len(y)):\n",
    "        A = set(xs_idx[i].ravel().cpu().tolist())\n",
    "        B = set(y_idx[i].cpu().tolist())\n",
    "        if only_ascii:\n",
    "            A, B = map(lambda X: {x for x in X if tokenizer.decode(x).isascii()}, (A, B))\n",
    "        out.append(len(A & B) / len(B))\n",
    "    return out        "
   ]
  },
  {
   "cell_type": "code",
   "execution_count": 124,
   "id": "315137c6-daba-4f8e-bb28-4796d1952ed5",
   "metadata": {},
   "outputs": [],
   "source": [
    "def _batched_sim(x, y, k=100):\n",
    "    out = []\n",
    "    x_idx = torch.topk(x, k=k, dim=-1).indices\n",
    "    y_idx = torch.topk(y, k=k, dim=-1).indices\n",
    "    for i in range(len(y)):\n",
    "        A, B = set(x_idx[i].cpu().tolist()), set(y_idx[i].cpu().tolist())\n",
    "        out.append(len(A & B) / len(A | B))\n",
    "    return out"
   ]
  },
  {
   "cell_type": "code",
   "execution_count": 209,
   "id": "f2e09aff-e0bb-479d-8451-099cb752d6d2",
   "metadata": {},
   "outputs": [],
   "source": [
    "def _plot_comparison(tuples_by_layers, figsize=(15, 9), plots_per_row=2):\n",
    "    fig = plt.figure(figsize=figsize)\n",
    "    for i, (real, fake, param_name) in enumerate(tuples_by_layers):\n",
    "        plt.subplot(len(tuples_by_layers) // plots_per_row, plots_per_row, i + 1)\n",
    "        plt.title(param_name)\n",
    "        ax = sns.barplot(x='x', y='y', hue='hue',\n",
    "                    data={'x': [*np.arange(num_layers), *np.arange(num_layers)],\n",
    "                          'y': [*real, *fake],\n",
    "                          'hue': (['aligned'] * num_layers) + (['random'] * num_layers),\n",
    "                    }\n",
    "                   )\n",
    "        ax.legend_.remove()\n",
    "        # plt.xlabel(\"layer\")\n",
    "    handles, labels = ax.get_legend_handles_labels()\n",
    "    fig.legend(handles, labels, loc='lower center')"
   ]
  },
  {
   "cell_type": "markdown",
   "id": "7dd465b4-4175-4e19-b628-08b6d47de314",
   "metadata": {},
   "source": [
    "### Memorize Intermediate States"
   ]
  },
  {
   "cell_type": "code",
   "execution_count": 82,
   "id": "139dc0d4-172a-4a00-bdf5-d689d5199419",
   "metadata": {
    "tags": []
   },
   "outputs": [],
   "source": [
    "mem = defaultdict(list)\n",
    "def _memorize_inp_outp(sm, only_last=None):\n",
    "    global tokenizer\n",
    "    def f(m, inp, outp):\n",
    "        inp = inp[0]\n",
    "        outp = outp[0]\n",
    "        if only_last:\n",
    "            inp, outp = inp[-only_last:], outp[-only_last:]\n",
    "        inp, outp = (inp.squeeze(), outp.squeeze())\n",
    "\n",
    "        if 'attn.c_proj' in sm:\n",
    "            mem[f\"intermediate-{sm}\"].append((inp.cpu().detach(), outp.cpu().detach()))\n",
    "            inp = inp.reshape(inp.shape[0], num_heads, head_size)\n",
    "            layer_idx = int(re.search(r'\\.h\\.(\\d+)\\.', sm).group(1))\n",
    "            inp_ = torch.empty(inp.shape[0], inp.shape[1], hidden_dim)\n",
    "            for head_idx in range(inp.shape[1]):\n",
    "                inp_[:, head_idx] = (inp[:, head_idx].unsqueeze(1) @ W_O_heads[layer_idx][head_idx]).squeeze()\n",
    "            inp = inp_\n",
    "        mem[sm].append((inp.cpu().detach(), outp.cpu().detach()))\n",
    "    return f\n",
    "    \n",
    "submodules = [\n",
    "              *[f'transformer.h.{j}.attn' for j in range(num_layers)],\n",
    "              *[f'transformer.h.{j}.attn.c_proj' for j in range(num_layers)],\n",
    "              *[f'transformer.h.{j}' for j in range(num_layers)],\n",
    "              *[f'transformer.h.{j}.mlp.c_fc' for j in range(num_layers)],\n",
    "            ]\n",
    "if 'mem_hooks' in globals():\n",
    "    [h.remove() for h in mem_hooks]\n",
    "mem_hooks = []\n",
    "for sm in submodules:\n",
    "    mem_hooks.append(model.get_submodule(sm).register_forward_hook(_memorize_inp_outp(sm)))"
   ]
  },
  {
   "cell_type": "code",
   "execution_count": 83,
   "id": "c3eca3ef-4f36-477c-a3d9-e76111977fec",
   "metadata": {},
   "outputs": [],
   "source": [
    "sent_stop = 1024\n",
    "num_sent_samples = 60\n",
    "sents_sample = np.random.choice(sents, size=num_sent_samples)"
   ]
  },
  {
   "cell_type": "code",
   "execution_count": 84,
   "id": "0cda4508-9471-49b8-8225-21cf1acdd9f2",
   "metadata": {
    "scrolled": true,
    "tags": []
   },
   "outputs": [
    {
     "data": {
      "application/vnd.jupyter.widget-view+json": {
       "model_id": "f5b170ad86984554a4ac477b429c934c",
       "version_major": 2,
       "version_minor": 0
      },
      "text/plain": [
       "  0%|          | 0/60 [00:00<?, ?it/s]"
      ]
     },
     "metadata": {},
     "output_type": "display_data"
    }
   ],
   "source": [
    "for i in trange(num_sent_samples):\n",
    "    sampled_sent = sents_sample[i] # sents[i] #\n",
    "    sampled_sent = ' '.join(sampled_sent.split(' ')[:sent_stop])\n",
    "    model(**{k: v.to(device) if isinstance(v, torch.Tensor) else v\n",
    "                      for k, v in tokenizer(sampled_sent, return_tensors='pt', truncation=True).items()})"
   ]
  },
  {
   "cell_type": "markdown",
   "id": "cd9d8d4b-ed94-426d-a1e9-693c4fb224ad",
   "metadata": {},
   "source": [
    "## Experiments"
   ]
  },
  {
   "cell_type": "code",
   "execution_count": 115,
   "id": "725a607e-735d-48e9-881c-4749605625d1",
   "metadata": {},
   "outputs": [],
   "source": [
    "max_explored_tokens = 1000\n",
    "k_ = 20\n",
    "k2 = 10\n",
    "only_ascii = False"
   ]
  },
  {
   "cell_type": "markdown",
   "id": "303f41ab-a99d-4e8c-b4ac-6745d410bbef",
   "metadata": {},
   "source": [
    "### Hidden States and Parameters"
   ]
  },
  {
   "cell_type": "code",
   "execution_count": 126,
   "id": "9eedb2f0-ede6-41a9-b1cd-a130ec1710e1",
   "metadata": {},
   "outputs": [
    {
     "data": {
      "application/vnd.jupyter.widget-view+json": {
       "model_id": "ecab509939394f388bc9e6ad6da91c3e",
       "version_major": 2,
       "version_minor": 0
      },
      "text/plain": [
       "  0%|          | 0/24 [00:00<?, ?it/s]"
      ]
     },
     "metadata": {},
     "output_type": "display_data"
    }
   ],
   "source": [
    "real_K_recall, fake_K_recall, real_V_recall, fake_V_recall = [], [], [], []\n",
    "\n",
    "for i1 in trange(num_layers):\n",
    "    sum_lens = sum([len(x[0]) for x in mem[f'transformer.h.0.mlp.c_fc']])\n",
    "    tmp1_pre = torch.topk(torch.cat([y for _, y in mem[f'transformer.h.{i1}.mlp.c_fc']])[:max_explored_tokens], \n",
    "                          k=5, dim=-1).indices\n",
    "    tmp1_pre_perm = torch.topk(\n",
    "        torch.cat([y for _, y in mem[f'transformer.h.{i1}.mlp.c_fc']])[torch.randperm(sum_lens)[:max_explored_tokens]], \n",
    "                               k=5, dim=-1).indices\n",
    "    tmp1_K, tmp1_V = K_heads[i1][tmp1_pre] @ E1, V_heads[i1][tmp1_pre] @ E1\n",
    "    tmp1_K_perm, tmp1_V_perm = K_heads[i1][tmp1_pre_perm] @ E1, V_heads[i1][tmp1_pre_perm] @ E1\n",
    "    tmp2 = emb_func(torch.cat([y for _, y in mem[f'transformer.h.{i1}']])[:max_explored_tokens])\n",
    "\n",
    "    fake_K_recall.append(np.mean(_batched_recall_metric(tmp1_K_perm, tmp2, k=k_, k2=k2, only_ascii=only_ascii)))\n",
    "    real_K_recall.append(np.mean(_batched_recall_metric(tmp1_K, tmp2, k=k_, k2=k2, only_ascii=only_ascii)))\n",
    "    fake_V_recall.append(np.mean(_batched_recall_metric(tmp1_V_perm, tmp2, k=k_, k2=k2, only_ascii=only_ascii)))\n",
    "    real_V_recall.append(np.mean(_batched_recall_metric(tmp1_V, tmp2, k=k_, k2=k2, only_ascii=only_ascii)))"
   ]
  },
  {
   "cell_type": "code",
   "execution_count": 127,
   "id": "9958d6b2-b5c3-42e7-b7f7-a15392932474",
   "metadata": {},
   "outputs": [
    {
     "data": {
      "application/vnd.jupyter.widget-view+json": {
       "model_id": "f90a7dfe07564b73a2ad2e8184d6ff31",
       "version_major": 2,
       "version_minor": 0
      },
      "text/plain": [
       "  0%|          | 0/24 [00:00<?, ?it/s]"
      ]
     },
     "metadata": {},
     "output_type": "display_data"
    }
   ],
   "source": [
    "real_WV_recall, fake_WV_recall, real_WO_recall, fake_WO_recall = [], [], [], []\n",
    "\n",
    "for i1 in trange(num_layers):\n",
    "    tmp1_pre = torch.topk(torch.cat(\n",
    "        [x for x, _ in mem[f'intermediate-transformer.h.{i1}.attn.c_proj']])[:max_explored_tokens], k=5, dim=-1).indices\n",
    "    tmp1_x, tmp1_y = np.unravel_index(tmp1_pre.numpy(), (num_heads, head_size))\n",
    "    del tmp1_pre\n",
    "    tmp1_WV, tmp1_WO = W_V_heads[i1, tmp1_x, :, tmp1_y] @ E1, W_O_heads[i1, tmp1_x, tmp1_y] @ E1\n",
    "    tmp1 = tmp1_WV\n",
    "    tmp2 = emb_func(torch.cat([y for _, y in mem[f'transformer.h.{i1}']])[:max_explored_tokens])\n",
    "    \n",
    "    fake_WV_recall.append(np.mean(_batched_recall_metric(tmp1_WV[torch.randperm(len(tmp1_WV))], tmp2, k=k_, k2=k2,\n",
    "                                                         only_ascii=only_ascii)))\n",
    "    real_WV_recall.append(np.mean(_batched_recall_metric(tmp1_WV, tmp2, k=k_, k2=k2, only_ascii=only_ascii)))\n",
    "    fake_WO_recall.append(np.mean(_batched_recall_metric(tmp1_WO[torch.randperm(len(tmp1_WO))], tmp2, k=k_, k2=k2,\n",
    "                                                         only_ascii=only_ascii)))\n",
    "    real_WO_recall.append(np.mean(_batched_recall_metric(tmp1_WO, tmp2, k=k_, k2=k2, only_ascii=only_ascii)))"
   ]
  },
  {
   "cell_type": "code",
   "execution_count": 206,
   "id": "602ac99c-0592-4dad-b664-6f131b68f4ae",
   "metadata": {},
   "outputs": [
    {
     "data": {
      "image/png": "[encoded data removed]",
      "text/plain": [
       "<Figure size 1080x648 with 4 Axes>"
      ]
     },
     "metadata": {
      "needs_background": "light"
     },
     "output_type": "display_data"
    }
   ],
   "source": [
    "_plot_comparison([(real_K_recall, fake_K_recall, \"$K$\"),\n",
    "                  (real_V_recall, fake_V_recall, \"$V$\"),\n",
    "                  (real_WV_recall, fake_WV_recall, \"$W_V$\"),\n",
    "                  (real_WO_recall, fake_WO_recall, \"$W_O$\")\n",
    "                 ])\n",
    "plt.savefig(\"artifacts/weights_vs_states.pdf\")"
   ]
  },
  {
   "cell_type": "markdown",
   "id": "2d1d5225-a132-4872-8444-06b0d18be353",
   "metadata": {},
   "source": [
    "### Related Parameter Pairs are Connected"
   ]
  },
  {
   "cell_type": "code",
   "execution_count": 165,
   "id": "487c6e97-fc17-4a8f-8df5-858fbad8342a",
   "metadata": {},
   "outputs": [],
   "source": [
    "intersections_dict = {}"
   ]
  },
  {
   "cell_type": "code",
   "execution_count": 167,
   "id": "8bb739d4-e207-4b0f-ad2d-55deb869c0e1",
   "metadata": {
    "tags": []
   },
   "outputs": [],
   "source": [
    "intersections_dict['KV'] = np.array([_batched_sim(abs(K_heads[l] @ E1), abs(V_heads[l] @ E1)) for l in trange(num_layers)])\n",
    "\n",
    "intersections_dict['KV_shuffled'] = np.array([_batched_sim(abs(K_heads[l][torch.randperm(K_heads.shape[1])] @ E1), \n",
    "                                                            abs(V_heads[l] @ E1)) for l in trange(num_layers)])"
   ]
  },
  {
   "cell_type": "code",
   "execution_count": 169,
   "id": "301e2e24-7182-4afd-b496-7c1ae8a72677",
   "metadata": {},
   "outputs": [],
   "source": [
    "intersections_dict['W_VO'] = np.array([_batched_sim(abs(W_V_heads[l].permute(0, 2, 1).flatten(0, 1) @ E1), \n",
    "                                                                  abs(W_O_heads[l].flatten(0, 1) @ E1)) \n",
    "                                           for l in trange(num_layers)])\n",
    "\n",
    "intersections_dict['W_VO_shuffled'] = np.array([_batched_sim(abs(W_V_heads[l].permute(0, 2, 1).flatten(0, 1) @ E1),\n",
    "                                                             abs(W_O_heads[l].flatten(0, 1)[torch.randperm(W_O_heads.size(-1))] @ E1)) \n",
    "                                                    for l in trange(num_layers)])"
   ]
  },
  {
   "cell_type": "code",
   "execution_count": 207,
   "id": "4ff8cb1e-9362-4202-9ec3-3491fe3a048f",
   "metadata": {},
   "outputs": [
    {
     "data": {
      "application/vnd.jupyter.widget-view+json": {
       "model_id": "9f621910f9d24d538e474fdb664363ae",
       "version_major": 2,
       "version_minor": 0
      },
      "text/plain": [
       "  0%|          | 0/24 [00:00<?, ?it/s]"
      ]
     },
     "metadata": {},
     "output_type": "display_data"
    },
    {
     "data": {
      "application/vnd.jupyter.widget-view+json": {
       "model_id": "9fcdba25579440e0b70a04c20b88e202",
       "version_major": 2,
       "version_minor": 0
      },
      "text/plain": [
       "  0%|          | 0/24 [00:00<?, ?it/s]"
      ]
     },
     "metadata": {},
     "output_type": "display_data"
    }
   ],
   "source": [
    "intersections_dict['W_QK'] = np.array([_batched_sim(abs(W_Q_heads[l].permute(0, 2, 1).flatten(0, 1) @ E1), \n",
    "                                                    abs(W_K_heads[l].permute(0, 2, 1).flatten(0, 1) @ E1)) \n",
    "                                           for l in trange(num_layers)])\n",
    "\n",
    "intersections_dict['W_QK_shuffled'] = np.array([_batched_sim(abs(W_Q_heads[l].permute(0, 2, 1).flatten(0, 1) @ E1), \n",
    "                                    abs(W_K_heads[l].permute(0, 2, 1).flatten(0, 1)[torch.randperm(W_K_heads.size(-1))] @ E1)) \n",
    "                                    for l in trange(num_layers)])"
   ]
  },
  {
   "cell_type": "code",
   "execution_count": 229,
   "id": "3bfee8fb-89bc-4410-81c6-07aaa0f6217b",
   "metadata": {},
   "outputs": [
    {
     "data": {
      "image/png": "[encoded data removed]",
      "text/plain": [
       "<Figure size 2520x504 with 3 Axes>"
      ]
     },
     "metadata": {
      "needs_background": "light"
     },
     "output_type": "display_data"
    }
   ],
   "source": [
    "_plot_comparison([(np.mean(intersections_dict['KV'], axis=-1), np.mean(intersections_dict['KV_shuffled'], axis=-1), '$K$ and $V$'),\n",
    "                  (np.mean(intersections_dict['W_VO'], axis=-1), np.mean(intersections_dict['W_VO_shuffled'], axis=-1), '$W_V$ and $W_O$'),\n",
    "                  (np.mean(intersections_dict['W_QK'], axis=-1), np.mean(intersections_dict['W_QK_shuffled'], axis=-1), '$W_Q$ and $W_K$')\n",
    "                 ], figsize=(35, 7), plots_per_row=3)\n",
    "plt.savefig('artifacts/related_pairs.pdf')"
   ]
  },
  {
   "cell_type": "code",
   "execution_count": 173,
   "id": "91550341-9fe9-4c61-8f27-d5e6017ce1c5",
   "metadata": {},
   "outputs": [],
   "source": [
    "# plt.figure(figsize=(12, 4))\n",
    "# for i, (title, dict_key) in enumerate([('$K$ and $V$', 'KV'),\n",
    "#                                       ('$W_V$ and $W_O$', 'W_VO'),\n",
    "#                                       ]):\n",
    "#     plt.subplot(1, 2, i+1)\n",
    "#     plt.title(title)\n",
    "#     sns.barplot(x='x', y='y', hue='hue', \n",
    "#                 data={'x': [*np.arange(num_layers), *np.arange(num_layers)],\n",
    "#                       'y': [*np.mean(intersections_dict[dict_key], axis=-1), \n",
    "#                             *np.mean(intersections_dict[f'{dict_key}_shuffled'], axis=-1)],\n",
    "#                       'hue': (['aligned'] * num_layers) + (['shuffled'] * num_layers)\n",
    "#                 });"
   ]
  },
  {
   "cell_type": "markdown",
   "id": "8f1e7fe5-c7f2-41ee-9f4e-0becde6b7f9f",
   "metadata": {},
   "source": [
    "### Model Logits (*Last* Hidden States) and Parameters"
   ]
  },
  {
   "cell_type": "code",
   "execution_count": 194,
   "id": "1b605908-6a52-4c49-88ec-202f8fd45a30",
   "metadata": {},
   "outputs": [
    {
     "data": {
      "application/vnd.jupyter.widget-view+json": {
       "model_id": "1d55522b52ca463b8ac4b7a399cb577c",
       "version_major": 2,
       "version_minor": 0
      },
      "text/plain": [
       "  0%|          | 0/24 [00:00<?, ?it/s]"
      ]
     },
     "metadata": {},
     "output_type": "display_data"
    }
   ],
   "source": [
    "real_K_recall2, fake_K_recall2, real_V_recall2, fake_V_recall2 = [], [], [], []\n",
    "\n",
    "for i1 in trange(num_layers):\n",
    "    sum_lens = sum([len(x[0]) for x in mem[f'transformer.h.0.mlp.c_fc']])\n",
    "    tmp1_pre = torch.topk(torch.cat([y for _, y in mem[f'transformer.h.{i1}.mlp.c_fc']])[:max_explored_tokens], \n",
    "                          k=5, dim=-1).indices\n",
    "    tmp1_pre_perm = torch.topk(\n",
    "        torch.cat([y for _, y in mem[f'transformer.h.{i1}.mlp.c_fc']])[torch.randperm(sum_lens)[:max_explored_tokens]], \n",
    "                               k=5, dim=-1).indices\n",
    "    tmp1_K, tmp1_V = K_heads[i1][tmp1_pre] @ E1, V_heads[i1][tmp1_pre] @ E1\n",
    "    tmp1_K_perm, tmp1_V_perm = K_heads[i1][tmp1_pre_perm] @ E1, V_heads[i1][tmp1_pre_perm] @ E1\n",
    "    tmp2 = emb_func(torch.cat([y for _, y in mem[f'transformer.h.{num_layers-1}']])[:max_explored_tokens])\n",
    "\n",
    "    fake_K_recall2.append(np.mean(_batched_recall_metric(tmp1_K_perm, tmp2, k=k_, k2=k2, only_ascii=only_ascii)))\n",
    "    real_K_recall2.append(np.mean(_batched_recall_metric(tmp1_K, tmp2, k=k_, k2=k2, only_ascii=only_ascii)))\n",
    "    fake_V_recall2.append(np.mean(_batched_recall_metric(tmp1_V_perm, tmp2, k=k_, k2=k2, only_ascii=only_ascii)))\n",
    "    real_V_recall2.append(np.mean(_batched_recall_metric(tmp1_V, tmp2, k=k_, k2=k2, only_ascii=only_ascii)))"
   ]
  },
  {
   "cell_type": "code",
   "execution_count": 195,
   "id": "a2ecfd6c-bc4d-497b-aaf0-9437976660bd",
   "metadata": {},
   "outputs": [
    {
     "data": {
      "application/vnd.jupyter.widget-view+json": {
       "model_id": "abe0aef026884901a26e730d9a42d7f6",
       "version_major": 2,
       "version_minor": 0
      },
      "text/plain": [
       "  0%|          | 0/24 [00:00<?, ?it/s]"
      ]
     },
     "metadata": {},
     "output_type": "display_data"
    }
   ],
   "source": [
    "real_WV_recall2, fake_WV_recall2, real_WO_recall2, fake_WO_recall2 = [], [], [], []\n",
    "\n",
    "for i1 in trange(num_layers):\n",
    "    tmp1_pre = torch.topk(torch.cat(\n",
    "        [x for x, _ in mem[f'intermediate-transformer.h.{i1}.attn.c_proj']])[:max_explored_tokens], \n",
    "                          k=5, dim=-1).indices\n",
    "    tmp1_x, tmp1_y = np.unravel_index(tmp1_pre.numpy(), (num_heads, head_size))\n",
    "    del tmp1_pre\n",
    "    tmp1_WV, tmp1_WO = W_V_heads[i1, tmp1_x, :, tmp1_y] @ E1, W_O_heads[i1, tmp1_x, tmp1_y] @ E1\n",
    "    tmp1 = tmp1_WV\n",
    "    tmp2 = emb_func(torch.cat([y for _, y in mem[f'transformer.h.{num_layers-1}']])[:max_explored_tokens])\n",
    "    fake_WV_recall2.append(np.mean(_batched_recall_metric(tmp1_WV[torch.randperm(len(tmp1_WV))], tmp2, \n",
    "                                                          k=k_, k2=k2, only_ascii=only_ascii)))\n",
    "    real_WV_recall2.append(np.mean(_batched_recall_metric(tmp1_WV, tmp2, k=k_, k2=k2, only_ascii=only_ascii)))\n",
    "    fake_WO_recall2.append(np.mean(_batched_recall_metric(tmp1_WO[torch.randperm(len(tmp1_WO))], tmp2, \n",
    "                                                          k=k_, k2=k2, only_ascii=only_ascii)))\n",
    "    real_WO_recall2.append(np.mean(_batched_recall_metric(tmp1_WO, tmp2, k=k_, k2=k2, only_ascii=only_ascii)))"
   ]
  },
  {
   "cell_type": "code",
   "execution_count": 230,
   "id": "5165346e-cbcd-4737-9062-85debfc1cdb4",
   "metadata": {},
   "outputs": [
    {
     "data": {
      "image/png": "[encoded data removed]",
      "text/plain": [
       "<Figure size 1080x648 with 4 Axes>"
      ]
     },
     "metadata": {
      "needs_background": "light"
     },
     "output_type": "display_data"
    }
   ],
   "source": [
    "_plot_comparison([(real_K_recall2, fake_K_recall2, \"$K$\"),\n",
    "                  (real_V_recall2, fake_V_recall2, \"$V$\"),\n",
    "                  (real_WV_recall2, fake_WV_recall2, \"$W_V$\"),\n",
    "                  (real_WO_recall2, fake_WO_recall2, \"$W_O$\")\n",
    "                 ])\n",
    "plt.savefig(\"artifacts/weights_vs_logits.pdf\")"
   ]
  },
  {
   "cell_type": "markdown",
   "id": "d7fb4cc7-16c6-4fdd-90ce-d9d257c5a7ab",
   "metadata": {},
   "source": [
    "## Bonus: Comparing Inverses"
   ]
  },
  {
   "cell_type": "markdown",
   "id": "dccb6f24-5e98-4cfd-af6c-66c3edbd567a",
   "metadata": {},
   "source": [
    "### keep-k inverse robustness"
   ]
  },
  {
   "cell_type": "code",
   "execution_count": 6,
   "id": "8fded5fb-41cd-48f3-a9f9-793819bc0dd7",
   "metadata": {},
   "outputs": [],
   "source": [
    "from utils import keep_k"
   ]
  },
  {
   "cell_type": "code",
   "execution_count": 99,
   "id": "95f986f7-f6f4-4ecc-bae2-e27d8b10a82d",
   "metadata": {},
   "outputs": [],
   "source": [
    "E = emb.cpu()\n",
    "E_inv = emb.pinverse().cpu()"
   ]
  },
  {
   "cell_type": "code",
   "execution_count": 287,
   "id": "5215fa2f-f3cc-4334-9363-d358e628c3c2",
   "metadata": {},
   "outputs": [],
   "source": [
    "plot_pos_low = [10,  50, 100, 200, 300, 500]\n",
    "plot_pos_high = [512, 1024 , 2048, 4096, 10_000, 15_000, 20_000, 30_000]"
   ]
  },
  {
   "cell_type": "code",
   "execution_count": 290,
   "id": "ed4c63d4-ad4f-41f7-b345-b7c2d5baf1e8",
   "metadata": {},
   "outputs": [],
   "source": [
    "plot_range = 'high'"
   ]
  },
  {
   "cell_type": "code",
   "execution_count": 291,
   "id": "c4b15ce5-8e4f-415f-92d3-93049d35971f",
   "metadata": {},
   "outputs": [
    {
     "data": {
      "image/png": "[encoded data removed]",
      "text/plain": [
       "<Figure size 504x360 with 1 Axes>"
      ]
     },
     "metadata": {
      "needs_background": "light"
     },
     "output_type": "display_data"
    }
   ],
   "source": [
    "plt.figure(figsize=(7, 5))\n",
    "markers = ['^', 's', 'P']\n",
    "plot_pos = plot_pos_low if plot_range == 'low' else plot_pos_high\n",
    "\n",
    "for i, (X, label) in enumerate([(X_hidden, \"hidden states\"), (X_ff_values, \"FF values\"), (X_randn, \"normal distribution\")]):\n",
    "    plot_scores_E = []\n",
    "    plot_scores_inv = []\n",
    "\n",
    "    for k1 in plot_pos:\n",
    "        plot_scores_E.append(F.cosine_similarity((X @ X.T).ravel(),\n",
    "                                               (keep_k(X @ E, k=k1) @ keep_k(X @ E, k=k1).T).ravel(), dim=0).item())\n",
    "        plot_scores_inv.append(F.cosine_similarity((X @ X.T).ravel(),\n",
    "                                               (keep_k(X @ E, k=k1) @ keep_k(X @ E_inv.T, k=k1).T).ravel(), dim=0).item())\n",
    "    plt.plot(plot_pos, plot_scores_E, c=cmap[i], label=label, marker=markers[i], markersize=8)\n",
    "    plt.plot(plot_pos, plot_scores_inv, '--', c=cmap[i], marker=markers[i], markersize=8);\n",
    "\n",
    "plt.legend()\n",
    "plt.savefig(\"artifacts/e_vs_e_inv.pdf\" if plot_range == 'low' else \"artifacts/e_vs_e_inv_high.pdf\");"
   ]
  }
 ],
 "metadata": {
  "kernelspec": {
   "display_name": "Python 3",
   "language": "python",
   "name": "python3"
  },
  "language_info": {
   "codemirror_mode": {
    "name": "ipython",
    "version": 3
   },
   "file_extension": ".py",
   "mimetype": "text/x-python",
   "name": "python",
   "nbconvert_exporter": "python",
   "pygments_lexer": "ipython3",
   "version": "3.8.13"
  }
 },
 "nbformat": 4,
 "nbformat_minor": 5
}
