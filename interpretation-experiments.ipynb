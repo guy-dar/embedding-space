{
 "cells": [
  {
   "cell_type": "markdown",
   "id": "7c26c493-d2cc-4f20-9bb1-daecce8f60c8",
   "metadata": {},
   "source": [
    "## Init"
   ]
  },
  {
   "cell_type": "code",
   "execution_count": 1,
   "id": "25b40a90-625d-4c8a-9ae0-78e822f7ee8d",
   "metadata": {},
   "outputs": [],
   "source": [
    "import numpy as np\n",
    "import matplotlib.pyplot as plt\n",
    "import seaborn as sns\n",
    "import gc\n",
    "from tqdm.auto import tqdm, trange\n",
    "import re\n",
    "import torch\n",
    "from torch import nn\n",
    "import torch.nn.functional as F\n",
    "from collections import defaultdict\n",
    "from utils import load_imdb\n",
    "from transformers import AutoModelForCausalLM, AutoTokenizer"
   ]
  },
  {
   "cell_type": "code",
   "execution_count": 2,
   "id": "1e2c998d-4527-40fe-b29d-27a32cb20267",
   "metadata": {},
   "outputs": [],
   "source": [
    "device = 'cuda'\n",
    "model = AutoModelForCausalLM.from_pretrained('gpt2-medium').to(device)\n",
    "tokenizer = AutoTokenizer.from_pretrained(\"gpt2-medium\")"
   ]
  },
  {
   "cell_type": "code",
   "execution_count": 3,
   "id": "a48c95ff-9ac6-4a61-91b5-475b1a05026b",
   "metadata": {},
   "outputs": [],
   "source": [
    "emb = model.get_output_embeddings().weight.data.T\n",
    "num_layers = model.config.n_layer\n",
    "num_heads = model.config.n_head\n",
    "hidden_dim = model.config.n_ctx\n",
    "head_size = hidden_dim // num_heads\n",
    "\n",
    "K = torch.cat([model.get_parameter(f\"transformer.h.{j}.mlp.c_fc.weight\").T\n",
    "                           for j in range(num_layers)]).detach()\n",
    "V = torch.cat([model.get_parameter(f\"transformer.h.{j}.mlp.c_proj.weight\")\n",
    "                           for j in range(num_layers)]).detach()\n",
    "W_Q, W_K, W_V = torch.cat([model.get_parameter(f\"transformer.h.{j}.attn.c_attn.weight\") \n",
    "                           for j in range(num_layers)]).detach().chunk(3, dim=-1)\n",
    "W_O = torch.cat([model.get_parameter(f\"transformer.h.{j}.attn.c_proj.weight\") \n",
    "                           for j in range(num_layers)]).detach()\n",
    "\n",
    "K_heads = K.reshape(num_layers, -1, hidden_dim)\n",
    "V_heads = V.reshape(num_layers, -1, hidden_dim)\n",
    "d_int = K_heads.shape[1]\n",
    "\n",
    "W_V_heads = W_V.reshape(num_layers, hidden_dim, num_heads, head_size).permute(0, 2, 1, 3)\n",
    "W_O_heads = W_O.reshape(num_layers, num_heads, head_size, hidden_dim)\n",
    "W_Q_heads = W_Q.reshape(num_layers, hidden_dim, num_heads, head_size).permute(0, 2, 1, 3)\n",
    "W_K_heads = W_K.reshape(num_layers, hidden_dim, num_heads, head_size).permute(0, 2, 1, 3)"
   ]
  },
  {
   "cell_type": "code",
   "execution_count": 5,
   "id": "f67fe00c-2b3f-43b9-8356-0b46dac0687b",
   "metadata": {},
   "outputs": [
    {
     "name": "stderr",
     "output_type": "stream",
     "text": [
      "Reusing dataset imdb (/home/guydar/.cache/huggingface/datasets/imdb/plain_text/1.0.0/e3c66f1788a67a89c7058d97ff62b6c30531e05b549de56d3ab91891f0561f9a)\n"
     ]
    },
    {
     "data": {
      "application/vnd.jupyter.widget-view+json": {
       "model_id": "d2c546956f5241a7a5c581a9493d9f75",
       "version_major": 2,
       "version_minor": 0
      },
      "text/plain": [
       "  0%|          | 0/3 [00:00<?, ?it/s]"
      ]
     },
     "metadata": {},
     "output_type": "display_data"
    }
   ],
   "source": [
    "sents = load_imdb()\n",
    "sents = [s for s in sents if len(s) > 100]"
   ]
  },
  {
   "cell_type": "code",
   "execution_count": null,
   "id": "f0d9f51c-75d1-4cce-8a73-17c2b7f4c3b5",
   "metadata": {},
   "outputs": [],
   "source": [
    "E1 = emb"
   ]
  },
  {
   "cell_type": "code",
   "execution_count": 29,
   "id": "aef95a8b-c682-4aa4-a885-05830e2cbfd9",
   "metadata": {},
   "outputs": [],
   "source": [
    "ln_f = model.transformer.ln_f.cpu()\n",
    "emb = emb.cpu()\n",
    "emb_func = lambda x: ln_f(x) @ emb"
   ]
  },
  {
   "cell_type": "markdown",
   "id": "7dd465b4-4175-4e19-b628-08b6d47de314",
   "metadata": {},
   "source": [
    "### Memorize Intermediate States"
   ]
  },
  {
   "cell_type": "code",
   "execution_count": 7,
   "id": "139dc0d4-172a-4a00-bdf5-d689d5199419",
   "metadata": {
    "tags": []
   },
   "outputs": [],
   "source": [
    "mem = defaultdict(list)\n",
    "def _memorize_inp_outp(sm, only_last=None):\n",
    "    global tokenizer\n",
    "    def f(m, inp, outp):\n",
    "        inp = inp[0]\n",
    "        outp = outp[0]\n",
    "        if only_last:\n",
    "            inp, outp = inp[-only_last:], outp[-only_last:]\n",
    "        inp, outp = (inp.squeeze(), outp.squeeze())\n",
    "\n",
    "        if 'attn.c_proj' in sm:\n",
    "            mem[f\"intermediate-{sm}\"].append((inp.cpu().detach(), outp.cpu().detach()))\n",
    "            inp = inp.reshape(inp.shape[0], num_heads, head_size)\n",
    "            layer_idx = int(re.search(r'\\.h\\.(\\d+)\\.', sm).group(1))\n",
    "            inp_ = torch.empty(inp.shape[0], inp.shape[1], hidden_dim)\n",
    "            for head_idx in range(inp.shape[1]):\n",
    "                inp_[:, head_idx] = (inp[:, head_idx].unsqueeze(1) @ W_O_heads[layer_idx][head_idx]).squeeze()\n",
    "            inp = inp_\n",
    "        mem[sm].append((inp.cpu().detach(), outp.cpu().detach()))\n",
    "    return f\n",
    "    \n",
    "submodules = [\n",
    "              *[f'transformer.h.{j}.attn' for j in range(num_layers)],\n",
    "              *[f'transformer.h.{j}.attn.c_proj' for j in range(num_layers)],\n",
    "              *[f'transformer.h.{j}' for j in range(num_layers)],\n",
    "              *[f'transformer.h.{j}.mlp.c_fc' for j in range(num_layers)],\n",
    "            ]\n",
    "if 'mem_hooks' in globals():\n",
    "    [h.remove() for h in mem_hooks]\n",
    "mem_hooks = []\n",
    "for sm in submodules:\n",
    "    mem_hooks.append(model.get_submodule(sm).register_forward_hook(_memorize_inp_outp(sm)))"
   ]
  },
  {
   "cell_type": "code",
   "execution_count": 8,
   "id": "f07cb3aa-0566-4452-b6dc-7955fb155622",
   "metadata": {},
   "outputs": [],
   "source": [
    "sent_stop = 1024\n",
    "num_sent_samples = 60\n",
    "sents_sample = np.random.choice(sents, size=num_sent_samples)"
   ]
  },
  {
   "cell_type": "code",
   "execution_count": 9,
   "id": "0cda4508-9471-49b8-8225-21cf1acdd9f2",
   "metadata": {
    "scrolled": true,
    "tags": []
   },
   "outputs": [
    {
     "data": {
      "application/vnd.jupyter.widget-view+json": {
       "model_id": "51ec080996274cf3b75af0ba14398e81",
       "version_major": 2,
       "version_minor": 0
      },
      "text/plain": [
       "  0%|          | 0/60 [00:00<?, ?it/s]"
      ]
     },
     "metadata": {},
     "output_type": "display_data"
    }
   ],
   "source": [
    "for i in trange(num_sent_samples):\n",
    "    sampled_sent = sents_sample[i] # sents[i] #\n",
    "    sampled_sent = ' '.join(sampled_sent.split(' ')[:sent_stop])\n",
    "    model(**{k: v.to(device) if isinstance(v, torch.Tensor) else v\n",
    "                      for k, v in tokenizer(sampled_sent, return_tensors='pt', truncation=True).items()})"
   ]
  },
  {
   "cell_type": "markdown",
   "id": "cd9d8d4b-ed94-426d-a1e9-693c4fb224ad",
   "metadata": {},
   "source": [
    "## Experiments"
   ]
  },
  {
   "cell_type": "code",
   "execution_count": 10,
   "id": "b7f7978e-0e9b-4401-95a7-9255c3056c20",
   "metadata": {},
   "outputs": [],
   "source": [
    "only_ascii = False\n",
    "k_ = 100\n",
    "max_explored_tokens = 1000"
   ]
  },
  {
   "cell_type": "markdown",
   "id": "303f41ab-a99d-4e8c-b4ac-6745d410bbef",
   "metadata": {},
   "source": [
    "### Hidden States and Parameters"
   ]
  },
  {
   "cell_type": "code",
   "execution_count": 20,
   "id": "9c92194b-ea12-418e-8e6e-2e779d2d7b57",
   "metadata": {},
   "outputs": [],
   "source": [
    "def _batched_recall_metric(xs, y, k=100, k2=None, only_ascii=False):\n",
    "    if k2 is None:\n",
    "        k2 = k\n",
    "    out = []\n",
    "    xs_idx = torch.topk(xs, k=k, dim=-1).indices\n",
    "    y_idx = torch.topk(y, k=k2, dim=-1).indices\n",
    "    for i in range(len(y)):\n",
    "        A = set(xs_idx[i].ravel().cpu().tolist())\n",
    "        B = set(y_idx[i].cpu().tolist())\n",
    "        if only_ascii:\n",
    "            A, B = map(lambda X: {x for x in X if tokenizer.decode(x).isascii()}, (A, B))\n",
    "        out.append(len(A & B) / len(B))\n",
    "    return out        "
   ]
  },
  {
   "cell_type": "code",
   "execution_count": 30,
   "id": "9eedb2f0-ede6-41a9-b1cd-a130ec1710e1",
   "metadata": {},
   "outputs": [
    {
     "data": {
      "application/vnd.jupyter.widget-view+json": {
       "model_id": "a69cd811b0c84f45bb0b6415603a7852",
       "version_major": 2,
       "version_minor": 0
      },
      "text/plain": [
       "  0%|          | 0/24 [00:00<?, ?it/s]"
      ]
     },
     "metadata": {},
     "output_type": "display_data"
    }
   ],
   "source": [
    "real_K_recall, fake_K_recall, real_V_recall, fake_V_recall = [], [], [], []\n",
    "\n",
    "for i1 in trange(num_layers):\n",
    "    sum_lens = sum([len(x[0]) for x in mem[f'transformer.h.0.mlp.c_fc']])\n",
    "    tmp1_pre = torch.topk(torch.cat([y for _, y in mem[f'transformer.h.{i1}.mlp.c_fc']])[:max_explored_tokens], \n",
    "                          k=5, dim=-1).indices\n",
    "    tmp1_pre_perm = torch.topk(\n",
    "        torch.cat([y for _, y in mem[f'transformer.h.{i1}.mlp.c_fc']])[torch.randperm(sum_lens)[:max_explored_tokens]], \n",
    "                               k=5, dim=-1).indices\n",
    "    tmp1_K, tmp1_V = K_heads[i1][tmp1_pre] @ E1, V_heads[i1][tmp1_pre] @ E1\n",
    "    tmp1_K_perm, tmp1_V_perm = K_heads[i1][tmp1_pre_perm] @ E1, V_heads[i1][tmp1_pre_perm] @ E1\n",
    "    tmp2 = emb_func(torch.cat([y for _, y in mem[f'transformer.h.{i1}']])[:max_explored_tokens])\n",
    "\n",
    "    fake_K_recall.append(np.mean(_batched_recall_metric(tmp1_K_perm, tmp2, k=k_, only_ascii=only_ascii)))\n",
    "    real_K_recall.append(np.mean(_batched_recall_metric(tmp1_K, tmp2, k=k_, only_ascii=only_ascii)))\n",
    "    fake_V_recall.append(np.mean(_batched_recall_metric(tmp1_V_perm, tmp2, k=k_, only_ascii=only_ascii)))\n",
    "    real_V_recall.append(np.mean(_batched_recall_metric(tmp1_V, tmp2, k=k_, only_ascii=only_ascii)))"
   ]
  },
  {
   "cell_type": "code",
   "execution_count": 32,
   "id": "9958d6b2-b5c3-42e7-b7f7-a15392932474",
   "metadata": {},
   "outputs": [
    {
     "data": {
      "application/vnd.jupyter.widget-view+json": {
       "model_id": "a07fb964686c4b90b9bb4bc7f0703343",
       "version_major": 2,
       "version_minor": 0
      },
      "text/plain": [
       "  0%|          | 0/24 [00:00<?, ?it/s]"
      ]
     },
     "metadata": {},
     "output_type": "display_data"
    }
   ],
   "source": [
    "real_WV_recall, fake_WV_recall, real_WO_recall, fake_WO_recall = [], [], [], []\n",
    "\n",
    "for i1 in trange(num_layers):\n",
    "    tmp1_pre = torch.topk(torch.cat([x for x, _ in mem[f'intermediate-transformer.h.{i1}.attn.c_proj']])[:max_explored_tokens], k=5, dim=-1).indices\n",
    "    tmp1_x, tmp1_y = np.unravel_index(tmp1_pre.numpy(), (num_heads, head_size))\n",
    "    del tmp1_pre\n",
    "    tmp1_WV, tmp1_WO = W_V_heads[i1, tmp1_x, :, tmp1_y] @ E1, W_O_heads[i1, tmp1_x, tmp1_y] @ E1\n",
    "    tmp1 = tmp1_WV\n",
    "    tmp2 = emb_func(torch.cat([y for _, y in mem[f'transformer.h.{i1}']])[:max_explored_tokens])\n",
    "    fake_WV_recall.append(np.mean(_batched_recall_metric(tmp1_WV[torch.randperm(len(tmp1_WV))], tmp2)))\n",
    "    real_WV_recall.append(np.mean(_batched_recall_metric(tmp1_WV, tmp2)))\n",
    "    fake_WO_recall.append(np.mean(_batched_recall_metric(tmp1_WO[torch.randperm(len(tmp1_WO))], tmp2)))\n",
    "    real_WO_recall.append(np.mean(_batched_recall_metric(tmp1_WO, tmp2)))"
   ]
  },
  {
   "cell_type": "code",
   "execution_count": 35,
   "id": "f2e09aff-e0bb-479d-8451-099cb752d6d2",
   "metadata": {},
   "outputs": [
    {
     "data": {
      "image/png": "[encoded data removed]",
      "text/plain": [
       "<Figure size 1080x648 with 4 Axes>"
      ]
     },
     "metadata": {
      "needs_background": "light"
     },
     "output_type": "display_data"
    }
   ],
   "source": [
    "plt.figure(figsize=(15, 9))\n",
    "for i, (real, fake, param_name) in enumerate([(real_K_recall, fake_K_recall, \"FF Keys\"),\n",
    "                                              (real_V_recall, fake_V_recall, \"FF Values\"),\n",
    "                                              (real_WV_recall, fake_WV_recall, \"$W_V$\"),\n",
    "                                              (real_WO_recall, fake_WO_recall, \"$W_O$\")\n",
    "                                             ]):\n",
    "    plt.subplot(2, 2, i + 1)\n",
    "    plt.title(param_name)\n",
    "    sns.barplot(x='x', y='y', hue='hue',\n",
    "                data={'x': [*np.arange(num_layers), *np.arange(num_layers)],\n",
    "                      'y': [*real, *fake],\n",
    "                      'hue': (['aligned'] * num_layers) + (['shuffled'] * num_layers)\n",
    "                })"
   ]
  },
  {
   "cell_type": "markdown",
   "id": "2d1d5225-a132-4872-8444-06b0d18be353",
   "metadata": {},
   "source": [
    "### Related Parameter Pairs are Connected"
   ]
  },
  {
   "cell_type": "code",
   "execution_count": 38,
   "id": "315137c6-daba-4f8e-bb28-4796d1952ed5",
   "metadata": {},
   "outputs": [],
   "source": [
    "def _batched_sim(x, y, k=100):\n",
    "    out = []\n",
    "    x_idx = torch.topk(x, k=k, dim=-1).indices\n",
    "    y_idx = torch.topk(y, k=k, dim=-1).indices\n",
    "    for i in range(len(y)):\n",
    "        A, B = set(x_idx[i].cpu().tolist()), set(y_idx[i].cpu().tolist())\n",
    "        out.append(len(A & B) / len(A | B))\n",
    "    return out"
   ]
  },
  {
   "cell_type": "code",
   "execution_count": 41,
   "id": "487c6e97-fc17-4a8f-8df5-858fbad8342a",
   "metadata": {},
   "outputs": [],
   "source": [
    "intersections_dict = {}"
   ]
  },
  {
   "cell_type": "code",
   "execution_count": 42,
   "id": "7fc4de1d-24c1-45fa-b4b0-59832862f08c",
   "metadata": {
    "tags": []
   },
   "outputs": [
    {
     "data": {
      "application/vnd.jupyter.widget-view+json": {
       "model_id": "db51d61014114309a8b89f155cec12a4",
       "version_major": 2,
       "version_minor": 0
      },
      "text/plain": [
       "  0%|          | 0/24 [00:00<?, ?it/s]"
      ]
     },
     "metadata": {},
     "output_type": "display_data"
    }
   ],
   "source": [
    "intersections_dict['KV'] = np.array([_batched_sim(abs(K_heads[l] @ E1), abs(V_heads[l] @ E1)) for l in trange(num_layers)])"
   ]
  },
  {
   "cell_type": "code",
   "execution_count": 43,
   "id": "211cb622-d5c6-47f6-bc7f-279fe14082e3",
   "metadata": {
    "tags": []
   },
   "outputs": [
    {
     "data": {
      "application/vnd.jupyter.widget-view+json": {
       "model_id": "b6052cfd241b461b947648ea845dc80e",
       "version_major": 2,
       "version_minor": 0
      },
      "text/plain": [
       "  0%|          | 0/24 [00:00<?, ?it/s]"
      ]
     },
     "metadata": {},
     "output_type": "display_data"
    }
   ],
   "source": [
    "intersections_dict['KV_shuffled'] = np.array([_batched_sim(abs(K_heads[l][torch.randperm(K_heads.shape[1])] @ E1), \n",
    "                                                            abs(V_heads[l] @ E1)) for l in trange(num_layers)])"
   ]
  },
  {
   "cell_type": "code",
   "execution_count": 46,
   "id": "57ad8bc2-e05e-430d-a9b5-c00ce46382d7",
   "metadata": {},
   "outputs": [
    {
     "data": {
      "application/vnd.jupyter.widget-view+json": {
       "model_id": "bf368f9b615c4479ac1d2b1f2de3037f",
       "version_major": 2,
       "version_minor": 0
      },
      "text/plain": [
       "  0%|          | 0/24 [00:00<?, ?it/s]"
      ]
     },
     "metadata": {},
     "output_type": "display_data"
    }
   ],
   "source": [
    "intersections_dict['W_VO'] = np.array([_batched_sim(abs(W_V_heads[l].permute(0, 2, 1).flatten(0, 1) @ E1), \n",
    "                                                                  abs(W_O_heads[l].flatten(0, 1) @ E1)) \n",
    "                                           for l in trange(num_layers)])"
   ]
  },
  {
   "cell_type": "code",
   "execution_count": 47,
   "id": "1b3d0d11-1f08-417e-88c3-53a240f5379c",
   "metadata": {},
   "outputs": [
    {
     "data": {
      "application/vnd.jupyter.widget-view+json": {
       "model_id": "7ef2bb34805841dd8a862d87185482b2",
       "version_major": 2,
       "version_minor": 0
      },
      "text/plain": [
       "  0%|          | 0/24 [00:00<?, ?it/s]"
      ]
     },
     "metadata": {},
     "output_type": "display_data"
    }
   ],
   "source": [
    "intersections_dict['W_VO_shuffled'] = np.array([_batched_sim(abs(W_V_heads[l].permute(0, 2, 1).flatten(0, 1) @ E1), \n",
    "                                                                  abs(W_O_heads[l].flatten(0, 1)[torch.randperm(W_O_heads.size(-1))] @ E1)) \n",
    "                                                    for l in trange(num_layers)])"
   ]
  },
  {
   "cell_type": "code",
   "execution_count": 51,
   "id": "91550341-9fe9-4c61-8f27-d5e6017ce1c5",
   "metadata": {},
   "outputs": [
    {
     "data": {
      "image/png": "[encoded data removed]",
      "text/plain": [
       "<Figure size 864x288 with 2 Axes>"
      ]
     },
     "metadata": {
      "needs_background": "light"
     },
     "output_type": "display_data"
    }
   ],
   "source": [
    "plt.figure(figsize=(12, 4))\n",
    "for i, (title, dict_key) in enumerate([('$K$ and $V$', 'KV'),\n",
    "                                      ('$W_V$ and $W_O$', 'W_VO'),\n",
    "                                      ]):\n",
    "    plt.subplot(1, 2, i+1)\n",
    "    plt.title(title)\n",
    "    sns.barplot(x='x', y='y', hue='hue', \n",
    "                data={'x': [*np.arange(num_layers), *np.arange(num_layers)],\n",
    "                      'y': [*np.mean(intersections_dict[dict_key], axis=-1), \n",
    "                            *np.mean(intersections_dict[f'{dict_key}_shuffled'], axis=-1)],\n",
    "                      'hue': (['aligned'] * num_layers) + (['shuffled'] * num_layers)\n",
    "                });"
   ]
  },
  {
   "cell_type": "markdown",
   "id": "8f1e7fe5-c7f2-41ee-9f4e-0becde6b7f9f",
   "metadata": {},
   "source": [
    "### Model Logits and Parameters"
   ]
  },
  {
   "cell_type": "code",
   "execution_count": 66,
   "id": "1b605908-6a52-4c49-88ec-202f8fd45a30",
   "metadata": {},
   "outputs": [
    {
     "data": {
      "application/vnd.jupyter.widget-view+json": {
       "model_id": "8096c8a826b94d0fb6c701acad52ff9f",
       "version_major": 2,
       "version_minor": 0
      },
      "text/plain": [
       "  0%|          | 0/24 [00:00<?, ?it/s]"
      ]
     },
     "metadata": {},
     "output_type": "display_data"
    }
   ],
   "source": [
    "real_K_recall2, fake_K_recall2, real_V_recall2, fake_V_recall2 = [], [], [], []\n",
    "\n",
    "for i1 in trange(num_layers):\n",
    "    sum_lens = sum([len(x[0]) for x in mem[f'transformer.h.0.mlp.c_fc']])\n",
    "    tmp1_pre = torch.topk(torch.cat([y for _, y in mem[f'transformer.h.{i1}.mlp.c_fc']])[:max_explored_tokens], \n",
    "                          k=5, dim=-1).indices\n",
    "    tmp1_pre_perm = torch.topk(\n",
    "        torch.cat([y for _, y in mem[f'transformer.h.{i1}.mlp.c_fc']])[torch.randperm(sum_lens)[:max_explored_tokens]], \n",
    "                               k=5, dim=-1).indices\n",
    "    tmp1_K, tmp1_V = K_heads[i1][tmp1_pre] @ E1, V_heads[i1][tmp1_pre] @ E1\n",
    "    tmp1_K_perm, tmp1_V_perm = K_heads[i1][tmp1_pre_perm] @ E1, V_heads[i1][tmp1_pre_perm] @ E1\n",
    "    tmp2 = emb_func(torch.cat([y for _, y in mem[f'transformer.h.{num_layers-1}']])[:max_explored_tokens])\n",
    "\n",
    "    fake_K_recall2.append(np.mean(_batched_recall_metric(tmp1_K_perm, tmp2, k=k_, only_ascii=only_ascii)))\n",
    "    real_K_recall2.append(np.mean(_batched_recall_metric(tmp1_K, tmp2, k=k_, only_ascii=only_ascii)))\n",
    "    fake_V_recall2.append(np.mean(_batched_recall_metric(tmp1_V_perm, tmp2, k=k_, only_ascii=only_ascii)))\n",
    "    real_V_recall2.append(np.mean(_batched_recall_metric(tmp1_V, tmp2, k=k_, only_ascii=only_ascii)))"
   ]
  },
  {
   "cell_type": "code",
   "execution_count": 65,
   "id": "a2ecfd6c-bc4d-497b-aaf0-9437976660bd",
   "metadata": {},
   "outputs": [
    {
     "data": {
      "application/vnd.jupyter.widget-view+json": {
       "model_id": "d7f9ed31cfd74810850ab352f836944f",
       "version_major": 2,
       "version_minor": 0
      },
      "text/plain": [
       "  0%|          | 0/24 [00:00<?, ?it/s]"
      ]
     },
     "metadata": {},
     "output_type": "display_data"
    }
   ],
   "source": [
    "real_WV_recall2, fake_WV_recall2, real_WO_recall2, fake_WO_recall2 = [], [], [], []\n",
    "\n",
    "for i1 in trange(num_layers):\n",
    "    tmp1_pre = torch.topk(torch.cat([x for x, _ in mem[f'intermediate-transformer.h.{i1}.attn.c_proj']])[:max_explored_tokens], k=5, dim=-1).indices\n",
    "    tmp1_x, tmp1_y = np.unravel_index(tmp1_pre.numpy(), (num_heads, head_size))\n",
    "    del tmp1_pre\n",
    "    tmp1_WV, tmp1_WO = W_V_heads[i1, tmp1_x, :, tmp1_y] @ E1, W_O_heads[i1, tmp1_x, tmp1_y] @ E1\n",
    "    tmp1 = tmp1_WV\n",
    "    tmp2 = emb_func(torch.cat([y for _, y in mem[f'transformer.h.{num_layers-1}']])[:max_explored_tokens])\n",
    "    fake_WV_recall2.append(np.mean(_batched_recall_metric(tmp1_WV[torch.randperm(len(tmp1_WV))], tmp2)))\n",
    "    real_WV_recall2.append(np.mean(_batched_recall_metric(tmp1_WV, tmp2)))\n",
    "    fake_WO_recall2.append(np.mean(_batched_recall_metric(tmp1_WO[torch.randperm(len(tmp1_WO))], tmp2)))\n",
    "    real_WO_recall2.append(np.mean(_batched_recall_metric(tmp1_WO, tmp2)))"
   ]
  },
  {
   "cell_type": "code",
   "execution_count": 67,
   "id": "5165346e-cbcd-4737-9062-85debfc1cdb4",
   "metadata": {},
   "outputs": [
    {
     "data": {
      "image/png": "[encoded data removed]",
      "text/plain": [
       "<Figure size 1080x648 with 4 Axes>"
      ]
     },
     "metadata": {
      "needs_background": "light"
     },
     "output_type": "display_data"
    }
   ],
   "source": [
    "plt.figure(figsize=(15, 9))\n",
    "for i, (real, fake, param_name) in enumerate([(real_K_recall2, fake_K_recall2, \"FF Keys\"),\n",
    "                                              (real_V_recall2, fake_V_recall2, \"FF Values\"),\n",
    "                                              (real_WV_recall2, fake_WV_recall2, \"$W_V$\"),\n",
    "                                              (real_WO_recall2, fake_WO_recall2, \"$W_O$\")\n",
    "                                             ]):\n",
    "    plt.subplot(2, 2, i + 1)\n",
    "    plt.title(param_name)\n",
    "    sns.barplot(x='x', y='y', hue='hue',\n",
    "                data={'x': [*np.arange(num_layers), *np.arange(num_layers)],\n",
    "                      'y': [*real, *fake],\n",
    "                      'hue': (['aligned'] * num_layers) + (['shuffled'] * num_layers)\n",
    "                })"
   ]
  },
  {
   "cell_type": "code",
   "execution_count": null,
   "id": "ecdd8b91-232d-4a40-ba31-44b339bc90af",
   "metadata": {},
   "outputs": [],
   "source": []
  }
 ],
 "metadata": {
  "kernelspec": {
   "display_name": "Python 3",
   "language": "python",
   "name": "python3"
  },
  "language_info": {
   "codemirror_mode": {
    "name": "ipython",
    "version": 3
   },
   "file_extension": ".py",
   "mimetype": "text/x-python",
   "name": "python",
   "nbconvert_exporter": "python",
   "pygments_lexer": "ipython3",
   "version": "3.8.13"
  }
 },
 "nbformat": 4,
 "nbformat_minor": 5
}
