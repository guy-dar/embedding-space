{
 "cells": [
  {
   "cell_type": "markdown",
   "id": "7c26c493-d2cc-4f20-9bb1-daecce8f60c8",
   "metadata": {},
   "source": [
    "## Init"
   ]
  },
  {
   "cell_type": "code",
   "execution_count": 1,
   "id": "cd479a98-ee2d-46b8-8389-0d82600fe1de",
   "metadata": {},
   "outputs": [],
   "source": [
    "from collections import Counter\n",
    "import numpy as np\n",
    "import matplotlib.pyplot as plt\n",
    "import seaborn as sns\n",
    "import gc\n",
    "from copy import deepcopy\n",
    "from tqdm.auto import tqdm, trange\n",
    "import re\n",
    "import torch\n",
    "from torch import nn\n",
    "import torch.nn.functional as F\n",
    "from collections import defaultdict\n",
    "from utils import load_imdb\n",
    "from transformers import AutoModelForCausalLM, AutoTokenizer\n",
    "\n",
    "sns.set_palette('colorblind')\n",
    "cmap = sns.color_palette('colorblind')"
   ]
  },
  {
   "cell_type": "code",
   "execution_count": 2,
   "id": "1e2c998d-4527-40fe-b29d-27a32cb20267",
   "metadata": {},
   "outputs": [],
   "source": [
    "device = 'cuda'\n",
    "model = AutoModelForCausalLM.from_pretrained('gpt2-large').to(device)\n",
    "tokenizer = AutoTokenizer.from_pretrained('gpt2-large')"
   ]
  },
  {
   "cell_type": "markdown",
   "id": "d030de0b-8af4-4040-9ba5-2d87341596b9",
   "metadata": {},
   "source": [
    "### Parameter Extraction"
   ]
  },
  {
   "cell_type": "code",
   "execution_count": 3,
   "id": "a48c95ff-9ac6-4a61-91b5-475b1a05026b",
   "metadata": {
    "tags": []
   },
   "outputs": [],
   "source": [
    "emb = model.get_output_embeddings().weight.data.T\n",
    "num_layers = model.config.n_layer\n",
    "num_heads = model.config.n_head\n",
    "hidden_dim = model.config.n_embd\n",
    "head_size = hidden_dim // num_heads\n",
    "\n",
    "K = torch.cat([model.get_parameter(f\"transformer.h.{j}.mlp.c_fc.weight\").T\n",
    "                           for j in range(num_layers)]).detach()\n",
    "V = torch.cat([model.get_parameter(f\"transformer.h.{j}.mlp.c_proj.weight\")\n",
    "                           for j in range(num_layers)]).detach()\n",
    "W_Q, W_K, W_V = torch.cat([model.get_parameter(f\"transformer.h.{j}.attn.c_attn.weight\") \n",
    "                           for j in range(num_layers)]).detach().chunk(3, dim=-1)\n",
    "W_O = torch.cat([model.get_parameter(f\"transformer.h.{j}.attn.c_proj.weight\") \n",
    "                           for j in range(num_layers)]).detach()\n",
    "\n",
    "K_heads = K.reshape(num_layers, -1, hidden_dim)\n",
    "V_heads = V.reshape(num_layers, -1, hidden_dim)\n",
    "d_int = K_heads.shape[1]\n",
    "\n",
    "W_V_heads = W_V.reshape(num_layers, hidden_dim, num_heads, head_size).permute(0, 2, 1, 3)\n",
    "W_O_heads = W_O.reshape(num_layers, num_heads, head_size, hidden_dim)\n",
    "W_Q_heads = W_Q.reshape(num_layers, hidden_dim, num_heads, head_size).permute(0, 2, 1, 3)\n",
    "W_K_heads = W_K.reshape(num_layers, hidden_dim, num_heads, head_size).permute(0, 2, 1, 3)"
   ]
  },
  {
   "cell_type": "code",
   "execution_count": 4,
   "id": "f67fe00c-2b3f-43b9-8356-0b46dac0687b",
   "metadata": {
    "tags": []
   },
   "outputs": [
    {
     "name": "stderr",
     "output_type": "stream",
     "text": [
      "Reusing dataset imdb (/home/guydar/.cache/huggingface/datasets/imdb/plain_text/1.0.0/e3c66f1788a67a89c7058d97ff62b6c30531e05b549de56d3ab91891f0561f9a)\n"
     ]
    },
    {
     "data": {
      "application/vnd.jupyter.widget-view+json": {
       "model_id": "8641031b5a1a4232a90c2beaea0b4a86",
       "version_major": 2,
       "version_minor": 0
      },
      "text/plain": [
       "  0%|          | 0/3 [00:00<?, ?it/s]"
      ]
     },
     "metadata": {},
     "output_type": "display_data"
    }
   ],
   "source": [
    "sents = load_imdb()\n",
    "sents = [s for s in sents if len(s) > 100]"
   ]
  },
  {
   "cell_type": "code",
   "execution_count": 5,
   "id": "5ce6b564-e8e5-4a94-9e23-7f761b4d4de9",
   "metadata": {},
   "outputs": [],
   "source": [
    "ln_f = model.transformer.ln_f\n",
    "emb_cpu = deepcopy(emb).cpu()\n",
    "ln_f_cpu = deepcopy(ln_f).cpu()\n",
    "emb_func = lambda x: ln_f_cpu(x) @ emb_cpu\n",
    "E1 = emb"
   ]
  },
  {
   "cell_type": "markdown",
   "id": "a98daaca-0465-4822-a115-52af78afcc6c",
   "metadata": {},
   "source": [
    "### Functions"
   ]
  },
  {
   "cell_type": "code",
   "execution_count": 6,
   "id": "ca599149-7928-4d1d-956f-807316033771",
   "metadata": {},
   "outputs": [],
   "source": [
    "def dist_matmul(A, B, dist_B=False):\n",
    "    if dist_B:\n",
    "        return dist_matmul(B.T, A.T, dist_B=False).T\n",
    "    B_module = nn.Linear(*B.shape).to(B.device)\n",
    "    with torch.no_grad():\n",
    "        nn.init.zeros_(B_module.bias)\n",
    "        B_module.weight.set_(B.T)\n",
    "    B_module = nn.DataParallel(B_module)\n",
    "    res = B_module(A)\n",
    "    del B_module\n",
    "    return res"
   ]
  },
  {
   "cell_type": "code",
   "execution_count": 7,
   "id": "c60a514a-762b-4877-88e2-82782eaca938",
   "metadata": {},
   "outputs": [],
   "source": [
    "def get_token_freqs(sents):\n",
    "    token_probs_dict = Counter()\n",
    "    for s in tqdm(sents):\n",
    "        for t in tokenizer.encode(s):\n",
    "            token_probs_dict[t] += 1\n",
    "    return token_probs_dict"
   ]
  },
  {
   "cell_type": "code",
   "execution_count": 8,
   "id": "9c92194b-ea12-418e-8e6e-2e779d2d7b57",
   "metadata": {},
   "outputs": [],
   "source": [
    "def _batched_recall_metric(xs, y, k=20, k2=3, only_ascii=False):\n",
    "    if k2 is None:\n",
    "        k2 = k\n",
    "    out = []\n",
    "    xs_idx = torch.topk(xs, k=k, dim=-1).indices\n",
    "    y_idx = torch.topk(y, k=k2, dim=-1).indices\n",
    "    for i in range(len(y)):\n",
    "        A = set(xs_idx[i].ravel().cpu().tolist())\n",
    "        B = set(y_idx[i].cpu().tolist())\n",
    "        if only_ascii:\n",
    "            A, B = map(lambda X: {x for x in X if tokenizer.decode(x).isascii()}, (A, B))\n",
    "        out.append(len(A & B) / len(B))\n",
    "    return out        "
   ]
  },
  {
   "cell_type": "code",
   "execution_count": 9,
   "id": "315137c6-daba-4f8e-bb28-4796d1952ed5",
   "metadata": {},
   "outputs": [],
   "source": [
    "def _batched_sim(x, y, k=100):\n",
    "    out = []\n",
    "    x_idx = torch.topk(x, k=k, dim=-1).indices\n",
    "    y_idx = torch.topk(y, k=k, dim=-1).indices\n",
    "    for i in range(len(y)):\n",
    "        A, B = set(x_idx[i].cpu().tolist()), set(y_idx[i].cpu().tolist())\n",
    "        out.append(len(A & B) / len(A | B))\n",
    "    return out"
   ]
  },
  {
   "cell_type": "code",
   "execution_count": 10,
   "id": "f2e09aff-e0bb-479d-8451-099cb752d6d2",
   "metadata": {},
   "outputs": [],
   "source": [
    "def _plot_comparison(tuples_by_layers, figsize=(15, 9), plots_per_row=2, legend=True):\n",
    "    fig = plt.figure(figsize=figsize)\n",
    "    for i, (real, fake, param_name) in enumerate(tuples_by_layers):\n",
    "        plt.subplot(len(tuples_by_layers) // plots_per_row, plots_per_row, i + 1)\n",
    "        plt.title(param_name)\n",
    "        ax = sns.barplot(x='x', y='y', hue='hue',\n",
    "                    data={'x': [*np.arange(num_layers), *np.arange(num_layers)],\n",
    "                          'y': [*real, *fake],\n",
    "                          'hue': (['aligned'] * num_layers) + (['random'] * num_layers),\n",
    "                    }\n",
    "                   )\n",
    "        ax.legend_.remove()\n",
    "        # plt.xlabel(\"layer\")\n",
    "    handles, labels = ax.get_legend_handles_labels()\n",
    "    if legend:\n",
    "        fig.legend(handles, labels, loc='lower center')"
   ]
  },
  {
   "cell_type": "markdown",
   "id": "7dd465b4-4175-4e19-b628-08b6d47de314",
   "metadata": {},
   "source": [
    "### Memorize Intermediate States"
   ]
  },
  {
   "cell_type": "code",
   "execution_count": 11,
   "id": "139dc0d4-172a-4a00-bdf5-d689d5199419",
   "metadata": {
    "tags": []
   },
   "outputs": [],
   "source": [
    "mem = defaultdict(list)\n",
    "def _memorize_inp_outp(sm, only_last=None):\n",
    "    global tokenizer\n",
    "    def f(m, inp, outp):\n",
    "        inp = inp[0]\n",
    "        outp = outp[0]\n",
    "        if only_last:\n",
    "            inp, outp = inp[-only_last:], outp[-only_last:]\n",
    "        inp, outp = (inp.squeeze(), outp.squeeze())\n",
    "\n",
    "        if 'attn.c_proj' in sm:\n",
    "            mem[f\"intermediate-{sm}\"].append((inp.cpu().detach(), outp.cpu().detach()))\n",
    "            inp = inp.reshape(inp.shape[0], num_heads, head_size)\n",
    "            layer_idx = int(re.search(r'\\.h\\.(\\d+)\\.', sm).group(1))\n",
    "            inp_ = torch.empty(inp.shape[0], inp.shape[1], hidden_dim)\n",
    "            for head_idx in range(inp.shape[1]):\n",
    "                inp_[:, head_idx] = (inp[:, head_idx].unsqueeze(1) @ W_O_heads[layer_idx][head_idx]).squeeze()\n",
    "            inp = inp_\n",
    "        mem[sm].append((inp.cpu().detach(), outp.cpu().detach()))\n",
    "    return f\n",
    "    \n",
    "submodules = [\n",
    "              *[f'transformer.h.{j}.attn' for j in range(num_layers)],\n",
    "              *[f'transformer.h.{j}.attn.c_proj' for j in range(num_layers)],\n",
    "              *[f'transformer.h.{j}' for j in range(num_layers)],\n",
    "              *[f'transformer.h.{j}.mlp.c_fc' for j in range(num_layers)],\n",
    "            ]\n",
    "if 'mem_hooks' in globals():\n",
    "    [h.remove() for h in mem_hooks]\n",
    "mem_hooks = []\n",
    "for sm in submodules:\n",
    "    mem_hooks.append(model.get_submodule(sm).register_forward_hook(_memorize_inp_outp(sm)))"
   ]
  },
  {
   "cell_type": "code",
   "execution_count": 12,
   "id": "c3eca3ef-4f36-477c-a3d9-e76111977fec",
   "metadata": {},
   "outputs": [],
   "source": [
    "sent_stop = 1024\n",
    "num_sent_samples = 60\n",
    "sents_sample = np.random.choice(sents, size=num_sent_samples)"
   ]
  },
  {
   "cell_type": "code",
   "execution_count": 13,
   "id": "0cda4508-9471-49b8-8225-21cf1acdd9f2",
   "metadata": {
    "collapsed": true,
    "jupyter": {
     "outputs_hidden": true
    },
    "scrolled": true,
    "tags": []
   },
   "outputs": [
    {
     "data": {
      "application/vnd.jupyter.widget-view+json": {
       "model_id": "c1f2c121824f436a9b7f826879d57542",
       "version_major": 2,
       "version_minor": 0
      },
      "text/plain": [
       "  0%|          | 0/60 [00:00<?, ?it/s]"
      ]
     },
     "metadata": {},
     "output_type": "display_data"
    },
    {
     "ename": "OutOfMemoryError",
     "evalue": "CUDA out of memory. Tried to allocate 80.00 MiB (GPU 0; 11.91 GiB total capacity; 11.14 GiB already allocated; 68.94 MiB free; 11.24 GiB reserved in total by PyTorch) If reserved memory is >> allocated memory try setting max_split_size_mb to avoid fragmentation.  See documentation for Memory Management and PYTORCH_CUDA_ALLOC_CONF",
     "output_type": "error",
     "traceback": [
      "\u001b[0;31m---------------------------------------------------------------------------\u001b[0m",
      "\u001b[0;31mOutOfMemoryError\u001b[0m                          Traceback (most recent call last)",
      "\u001b[0;32m<ipython-input-13-f5911faba6d7>\u001b[0m in \u001b[0;36m<module>\u001b[0;34m\u001b[0m\n\u001b[1;32m      2\u001b[0m     \u001b[0msampled_sent\u001b[0m \u001b[0;34m=\u001b[0m \u001b[0msents_sample\u001b[0m\u001b[0;34m[\u001b[0m\u001b[0mi\u001b[0m\u001b[0;34m]\u001b[0m \u001b[0;31m# sents[i] #\u001b[0m\u001b[0;34m\u001b[0m\u001b[0;34m\u001b[0m\u001b[0m\n\u001b[1;32m      3\u001b[0m     \u001b[0msampled_sent\u001b[0m \u001b[0;34m=\u001b[0m \u001b[0;34m' '\u001b[0m\u001b[0;34m.\u001b[0m\u001b[0mjoin\u001b[0m\u001b[0;34m(\u001b[0m\u001b[0msampled_sent\u001b[0m\u001b[0;34m.\u001b[0m\u001b[0msplit\u001b[0m\u001b[0;34m(\u001b[0m\u001b[0;34m' '\u001b[0m\u001b[0;34m)\u001b[0m\u001b[0;34m[\u001b[0m\u001b[0;34m:\u001b[0m\u001b[0msent_stop\u001b[0m\u001b[0;34m]\u001b[0m\u001b[0;34m)\u001b[0m\u001b[0;34m\u001b[0m\u001b[0;34m\u001b[0m\u001b[0m\n\u001b[0;32m----> 4\u001b[0;31m     model(**{k: v.to(device) if isinstance(v, torch.Tensor) else v\n\u001b[0m\u001b[1;32m      5\u001b[0m                       for k, v in tokenizer(sampled_sent, return_tensors='pt', truncation=True).items()})\n",
      "\u001b[0;32m/mnt/netapp7/dar/miniconda/lib/python3.8/site-packages/torch/nn/modules/module.py\u001b[0m in \u001b[0;36m_call_impl\u001b[0;34m(self, *input, **kwargs)\u001b[0m\n\u001b[1;32m   1188\u001b[0m         if not (self._backward_hooks or self._forward_hooks or self._forward_pre_hooks or _global_backward_hooks\n\u001b[1;32m   1189\u001b[0m                 or _global_forward_hooks or _global_forward_pre_hooks):\n\u001b[0;32m-> 1190\u001b[0;31m             \u001b[0;32mreturn\u001b[0m \u001b[0mforward_call\u001b[0m\u001b[0;34m(\u001b[0m\u001b[0;34m*\u001b[0m\u001b[0minput\u001b[0m\u001b[0;34m,\u001b[0m \u001b[0;34m**\u001b[0m\u001b[0mkwargs\u001b[0m\u001b[0;34m)\u001b[0m\u001b[0;34m\u001b[0m\u001b[0;34m\u001b[0m\u001b[0m\n\u001b[0m\u001b[1;32m   1191\u001b[0m         \u001b[0;31m# Do not call functions when jit is used\u001b[0m\u001b[0;34m\u001b[0m\u001b[0;34m\u001b[0m\u001b[0;34m\u001b[0m\u001b[0m\n\u001b[1;32m   1192\u001b[0m         \u001b[0mfull_backward_hooks\u001b[0m\u001b[0;34m,\u001b[0m \u001b[0mnon_full_backward_hooks\u001b[0m \u001b[0;34m=\u001b[0m \u001b[0;34m[\u001b[0m\u001b[0;34m]\u001b[0m\u001b[0;34m,\u001b[0m \u001b[0;34m[\u001b[0m\u001b[0;34m]\u001b[0m\u001b[0;34m\u001b[0m\u001b[0;34m\u001b[0m\u001b[0m\n",
      "\u001b[0;32m/mnt/netapp7/dar/miniconda/lib/python3.8/site-packages/transformers/models/gpt2/modeling_gpt2.py\u001b[0m in \u001b[0;36mforward\u001b[0;34m(self, input_ids, past_key_values, attention_mask, token_type_ids, position_ids, head_mask, inputs_embeds, encoder_hidden_states, encoder_attention_mask, labels, use_cache, output_attentions, output_hidden_states, return_dict)\u001b[0m\n\u001b[1;32m   1046\u001b[0m         \u001b[0mreturn_dict\u001b[0m \u001b[0;34m=\u001b[0m \u001b[0mreturn_dict\u001b[0m \u001b[0;32mif\u001b[0m \u001b[0mreturn_dict\u001b[0m \u001b[0;32mis\u001b[0m \u001b[0;32mnot\u001b[0m \u001b[0;32mNone\u001b[0m \u001b[0;32melse\u001b[0m \u001b[0mself\u001b[0m\u001b[0;34m.\u001b[0m\u001b[0mconfig\u001b[0m\u001b[0;34m.\u001b[0m\u001b[0muse_return_dict\u001b[0m\u001b[0;34m\u001b[0m\u001b[0;34m\u001b[0m\u001b[0m\n\u001b[1;32m   1047\u001b[0m \u001b[0;34m\u001b[0m\u001b[0m\n\u001b[0;32m-> 1048\u001b[0;31m         transformer_outputs = self.transformer(\n\u001b[0m\u001b[1;32m   1049\u001b[0m             \u001b[0minput_ids\u001b[0m\u001b[0;34m,\u001b[0m\u001b[0;34m\u001b[0m\u001b[0;34m\u001b[0m\u001b[0m\n\u001b[1;32m   1050\u001b[0m             \u001b[0mpast_key_values\u001b[0m\u001b[0;34m=\u001b[0m\u001b[0mpast_key_values\u001b[0m\u001b[0;34m,\u001b[0m\u001b[0;34m\u001b[0m\u001b[0;34m\u001b[0m\u001b[0m\n",
      "\u001b[0;32m/mnt/netapp7/dar/miniconda/lib/python3.8/site-packages/torch/nn/modules/module.py\u001b[0m in \u001b[0;36m_call_impl\u001b[0;34m(self, *input, **kwargs)\u001b[0m\n\u001b[1;32m   1188\u001b[0m         if not (self._backward_hooks or self._forward_hooks or self._forward_pre_hooks or _global_backward_hooks\n\u001b[1;32m   1189\u001b[0m                 or _global_forward_hooks or _global_forward_pre_hooks):\n\u001b[0;32m-> 1190\u001b[0;31m             \u001b[0;32mreturn\u001b[0m \u001b[0mforward_call\u001b[0m\u001b[0;34m(\u001b[0m\u001b[0;34m*\u001b[0m\u001b[0minput\u001b[0m\u001b[0;34m,\u001b[0m \u001b[0;34m**\u001b[0m\u001b[0mkwargs\u001b[0m\u001b[0;34m)\u001b[0m\u001b[0;34m\u001b[0m\u001b[0;34m\u001b[0m\u001b[0m\n\u001b[0m\u001b[1;32m   1191\u001b[0m         \u001b[0;31m# Do not call functions when jit is used\u001b[0m\u001b[0;34m\u001b[0m\u001b[0;34m\u001b[0m\u001b[0;34m\u001b[0m\u001b[0m\n\u001b[1;32m   1192\u001b[0m         \u001b[0mfull_backward_hooks\u001b[0m\u001b[0;34m,\u001b[0m \u001b[0mnon_full_backward_hooks\u001b[0m \u001b[0;34m=\u001b[0m \u001b[0;34m[\u001b[0m\u001b[0;34m]\u001b[0m\u001b[0;34m,\u001b[0m \u001b[0;34m[\u001b[0m\u001b[0;34m]\u001b[0m\u001b[0;34m\u001b[0m\u001b[0;34m\u001b[0m\u001b[0m\n",
      "\u001b[0;32m/mnt/netapp7/dar/miniconda/lib/python3.8/site-packages/transformers/models/gpt2/modeling_gpt2.py\u001b[0m in \u001b[0;36mforward\u001b[0;34m(self, input_ids, past_key_values, attention_mask, token_type_ids, position_ids, head_mask, inputs_embeds, encoder_hidden_states, encoder_attention_mask, use_cache, output_attentions, output_hidden_states, return_dict)\u001b[0m\n\u001b[1;32m    889\u001b[0m                 )\n\u001b[1;32m    890\u001b[0m             \u001b[0;32melse\u001b[0m\u001b[0;34m:\u001b[0m\u001b[0;34m\u001b[0m\u001b[0;34m\u001b[0m\u001b[0m\n\u001b[0;32m--> 891\u001b[0;31m                 outputs = block(\n\u001b[0m\u001b[1;32m    892\u001b[0m                     \u001b[0mhidden_states\u001b[0m\u001b[0;34m,\u001b[0m\u001b[0;34m\u001b[0m\u001b[0;34m\u001b[0m\u001b[0m\n\u001b[1;32m    893\u001b[0m                     \u001b[0mlayer_past\u001b[0m\u001b[0;34m=\u001b[0m\u001b[0mlayer_past\u001b[0m\u001b[0;34m,\u001b[0m\u001b[0;34m\u001b[0m\u001b[0;34m\u001b[0m\u001b[0m\n",
      "\u001b[0;32m/mnt/netapp7/dar/miniconda/lib/python3.8/site-packages/torch/nn/modules/module.py\u001b[0m in \u001b[0;36m_call_impl\u001b[0;34m(self, *input, **kwargs)\u001b[0m\n\u001b[1;32m   1206\u001b[0m             \u001b[0minput\u001b[0m \u001b[0;34m=\u001b[0m \u001b[0mbw_hook\u001b[0m\u001b[0;34m.\u001b[0m\u001b[0msetup_input_hook\u001b[0m\u001b[0;34m(\u001b[0m\u001b[0minput\u001b[0m\u001b[0;34m)\u001b[0m\u001b[0;34m\u001b[0m\u001b[0;34m\u001b[0m\u001b[0m\n\u001b[1;32m   1207\u001b[0m \u001b[0;34m\u001b[0m\u001b[0m\n\u001b[0;32m-> 1208\u001b[0;31m         \u001b[0mresult\u001b[0m \u001b[0;34m=\u001b[0m \u001b[0mforward_call\u001b[0m\u001b[0;34m(\u001b[0m\u001b[0;34m*\u001b[0m\u001b[0minput\u001b[0m\u001b[0;34m,\u001b[0m \u001b[0;34m**\u001b[0m\u001b[0mkwargs\u001b[0m\u001b[0;34m)\u001b[0m\u001b[0;34m\u001b[0m\u001b[0;34m\u001b[0m\u001b[0m\n\u001b[0m\u001b[1;32m   1209\u001b[0m         \u001b[0;32mif\u001b[0m \u001b[0m_global_forward_hooks\u001b[0m \u001b[0;32mor\u001b[0m \u001b[0mself\u001b[0m\u001b[0;34m.\u001b[0m\u001b[0m_forward_hooks\u001b[0m\u001b[0;34m:\u001b[0m\u001b[0;34m\u001b[0m\u001b[0;34m\u001b[0m\u001b[0m\n\u001b[1;32m   1210\u001b[0m             \u001b[0;32mfor\u001b[0m \u001b[0mhook\u001b[0m \u001b[0;32min\u001b[0m \u001b[0;34m(\u001b[0m\u001b[0;34m*\u001b[0m\u001b[0m_global_forward_hooks\u001b[0m\u001b[0;34m.\u001b[0m\u001b[0mvalues\u001b[0m\u001b[0;34m(\u001b[0m\u001b[0;34m)\u001b[0m\u001b[0;34m,\u001b[0m \u001b[0;34m*\u001b[0m\u001b[0mself\u001b[0m\u001b[0;34m.\u001b[0m\u001b[0m_forward_hooks\u001b[0m\u001b[0;34m.\u001b[0m\u001b[0mvalues\u001b[0m\u001b[0;34m(\u001b[0m\u001b[0;34m)\u001b[0m\u001b[0;34m)\u001b[0m\u001b[0;34m:\u001b[0m\u001b[0;34m\u001b[0m\u001b[0;34m\u001b[0m\u001b[0m\n",
      "\u001b[0;32m/mnt/netapp7/dar/miniconda/lib/python3.8/site-packages/transformers/models/gpt2/modeling_gpt2.py\u001b[0m in \u001b[0;36mforward\u001b[0;34m(self, hidden_states, layer_past, attention_mask, head_mask, encoder_hidden_states, encoder_attention_mask, use_cache, output_attentions)\u001b[0m\n\u001b[1;32m    389\u001b[0m         \u001b[0mresidual\u001b[0m \u001b[0;34m=\u001b[0m \u001b[0mhidden_states\u001b[0m\u001b[0;34m\u001b[0m\u001b[0;34m\u001b[0m\u001b[0m\n\u001b[1;32m    390\u001b[0m         \u001b[0mhidden_states\u001b[0m \u001b[0;34m=\u001b[0m \u001b[0mself\u001b[0m\u001b[0;34m.\u001b[0m\u001b[0mln_1\u001b[0m\u001b[0;34m(\u001b[0m\u001b[0mhidden_states\u001b[0m\u001b[0;34m)\u001b[0m\u001b[0;34m\u001b[0m\u001b[0;34m\u001b[0m\u001b[0m\n\u001b[0;32m--> 391\u001b[0;31m         attn_outputs = self.attn(\n\u001b[0m\u001b[1;32m    392\u001b[0m             \u001b[0mhidden_states\u001b[0m\u001b[0;34m,\u001b[0m\u001b[0;34m\u001b[0m\u001b[0;34m\u001b[0m\u001b[0m\n\u001b[1;32m    393\u001b[0m             \u001b[0mlayer_past\u001b[0m\u001b[0;34m=\u001b[0m\u001b[0mlayer_past\u001b[0m\u001b[0;34m,\u001b[0m\u001b[0;34m\u001b[0m\u001b[0;34m\u001b[0m\u001b[0m\n",
      "\u001b[0;32m/mnt/netapp7/dar/miniconda/lib/python3.8/site-packages/torch/nn/modules/module.py\u001b[0m in \u001b[0;36m_call_impl\u001b[0;34m(self, *input, **kwargs)\u001b[0m\n\u001b[1;32m   1206\u001b[0m             \u001b[0minput\u001b[0m \u001b[0;34m=\u001b[0m \u001b[0mbw_hook\u001b[0m\u001b[0;34m.\u001b[0m\u001b[0msetup_input_hook\u001b[0m\u001b[0;34m(\u001b[0m\u001b[0minput\u001b[0m\u001b[0;34m)\u001b[0m\u001b[0;34m\u001b[0m\u001b[0;34m\u001b[0m\u001b[0m\n\u001b[1;32m   1207\u001b[0m \u001b[0;34m\u001b[0m\u001b[0m\n\u001b[0;32m-> 1208\u001b[0;31m         \u001b[0mresult\u001b[0m \u001b[0;34m=\u001b[0m \u001b[0mforward_call\u001b[0m\u001b[0;34m(\u001b[0m\u001b[0;34m*\u001b[0m\u001b[0minput\u001b[0m\u001b[0;34m,\u001b[0m \u001b[0;34m**\u001b[0m\u001b[0mkwargs\u001b[0m\u001b[0;34m)\u001b[0m\u001b[0;34m\u001b[0m\u001b[0;34m\u001b[0m\u001b[0m\n\u001b[0m\u001b[1;32m   1209\u001b[0m         \u001b[0;32mif\u001b[0m \u001b[0m_global_forward_hooks\u001b[0m \u001b[0;32mor\u001b[0m \u001b[0mself\u001b[0m\u001b[0;34m.\u001b[0m\u001b[0m_forward_hooks\u001b[0m\u001b[0;34m:\u001b[0m\u001b[0;34m\u001b[0m\u001b[0;34m\u001b[0m\u001b[0m\n\u001b[1;32m   1210\u001b[0m             \u001b[0;32mfor\u001b[0m \u001b[0mhook\u001b[0m \u001b[0;32min\u001b[0m \u001b[0;34m(\u001b[0m\u001b[0;34m*\u001b[0m\u001b[0m_global_forward_hooks\u001b[0m\u001b[0;34m.\u001b[0m\u001b[0mvalues\u001b[0m\u001b[0;34m(\u001b[0m\u001b[0;34m)\u001b[0m\u001b[0;34m,\u001b[0m \u001b[0;34m*\u001b[0m\u001b[0mself\u001b[0m\u001b[0;34m.\u001b[0m\u001b[0m_forward_hooks\u001b[0m\u001b[0;34m.\u001b[0m\u001b[0mvalues\u001b[0m\u001b[0;34m(\u001b[0m\u001b[0;34m)\u001b[0m\u001b[0;34m)\u001b[0m\u001b[0;34m:\u001b[0m\u001b[0;34m\u001b[0m\u001b[0;34m\u001b[0m\u001b[0m\n",
      "\u001b[0;32m/mnt/netapp7/dar/miniconda/lib/python3.8/site-packages/transformers/models/gpt2/modeling_gpt2.py\u001b[0m in \u001b[0;36mforward\u001b[0;34m(self, hidden_states, layer_past, attention_mask, head_mask, encoder_hidden_states, encoder_attention_mask, use_cache, output_attentions)\u001b[0m\n\u001b[1;32m    330\u001b[0m             \u001b[0mattn_output\u001b[0m\u001b[0;34m,\u001b[0m \u001b[0mattn_weights\u001b[0m \u001b[0;34m=\u001b[0m \u001b[0mself\u001b[0m\u001b[0;34m.\u001b[0m\u001b[0m_upcast_and_reordered_attn\u001b[0m\u001b[0;34m(\u001b[0m\u001b[0mquery\u001b[0m\u001b[0;34m,\u001b[0m \u001b[0mkey\u001b[0m\u001b[0;34m,\u001b[0m \u001b[0mvalue\u001b[0m\u001b[0;34m,\u001b[0m \u001b[0mattention_mask\u001b[0m\u001b[0;34m,\u001b[0m \u001b[0mhead_mask\u001b[0m\u001b[0;34m)\u001b[0m\u001b[0;34m\u001b[0m\u001b[0;34m\u001b[0m\u001b[0m\n\u001b[1;32m    331\u001b[0m         \u001b[0;32melse\u001b[0m\u001b[0;34m:\u001b[0m\u001b[0;34m\u001b[0m\u001b[0;34m\u001b[0m\u001b[0m\n\u001b[0;32m--> 332\u001b[0;31m             \u001b[0mattn_output\u001b[0m\u001b[0;34m,\u001b[0m \u001b[0mattn_weights\u001b[0m \u001b[0;34m=\u001b[0m \u001b[0mself\u001b[0m\u001b[0;34m.\u001b[0m\u001b[0m_attn\u001b[0m\u001b[0;34m(\u001b[0m\u001b[0mquery\u001b[0m\u001b[0;34m,\u001b[0m \u001b[0mkey\u001b[0m\u001b[0;34m,\u001b[0m \u001b[0mvalue\u001b[0m\u001b[0;34m,\u001b[0m \u001b[0mattention_mask\u001b[0m\u001b[0;34m,\u001b[0m \u001b[0mhead_mask\u001b[0m\u001b[0;34m)\u001b[0m\u001b[0;34m\u001b[0m\u001b[0;34m\u001b[0m\u001b[0m\n\u001b[0m\u001b[1;32m    333\u001b[0m \u001b[0;34m\u001b[0m\u001b[0m\n\u001b[1;32m    334\u001b[0m         \u001b[0mattn_output\u001b[0m \u001b[0;34m=\u001b[0m \u001b[0mself\u001b[0m\u001b[0;34m.\u001b[0m\u001b[0m_merge_heads\u001b[0m\u001b[0;34m(\u001b[0m\u001b[0mattn_output\u001b[0m\u001b[0;34m,\u001b[0m \u001b[0mself\u001b[0m\u001b[0;34m.\u001b[0m\u001b[0mnum_heads\u001b[0m\u001b[0;34m,\u001b[0m \u001b[0mself\u001b[0m\u001b[0;34m.\u001b[0m\u001b[0mhead_dim\u001b[0m\u001b[0;34m)\u001b[0m\u001b[0;34m\u001b[0m\u001b[0;34m\u001b[0m\u001b[0m\n",
      "\u001b[0;32m/mnt/netapp7/dar/miniconda/lib/python3.8/site-packages/transformers/models/gpt2/modeling_gpt2.py\u001b[0m in \u001b[0;36m_attn\u001b[0;34m(self, query, key, value, attention_mask, head_mask)\u001b[0m\n\u001b[1;32m    190\u001b[0m \u001b[0;34m\u001b[0m\u001b[0m\n\u001b[1;32m    191\u001b[0m         \u001b[0;32mif\u001b[0m \u001b[0mself\u001b[0m\u001b[0;34m.\u001b[0m\u001b[0mscale_attn_weights\u001b[0m\u001b[0;34m:\u001b[0m\u001b[0;34m\u001b[0m\u001b[0;34m\u001b[0m\u001b[0m\n\u001b[0;32m--> 192\u001b[0;31m             \u001b[0mattn_weights\u001b[0m \u001b[0;34m=\u001b[0m \u001b[0mattn_weights\u001b[0m \u001b[0;34m/\u001b[0m \u001b[0;34m(\u001b[0m\u001b[0mvalue\u001b[0m\u001b[0;34m.\u001b[0m\u001b[0msize\u001b[0m\u001b[0;34m(\u001b[0m\u001b[0;34m-\u001b[0m\u001b[0;36m1\u001b[0m\u001b[0;34m)\u001b[0m \u001b[0;34m**\u001b[0m \u001b[0;36m0.5\u001b[0m\u001b[0;34m)\u001b[0m\u001b[0;34m\u001b[0m\u001b[0;34m\u001b[0m\u001b[0m\n\u001b[0m\u001b[1;32m    193\u001b[0m \u001b[0;34m\u001b[0m\u001b[0m\n\u001b[1;32m    194\u001b[0m         \u001b[0;31m# Layer-wise attention scaling\u001b[0m\u001b[0;34m\u001b[0m\u001b[0;34m\u001b[0m\u001b[0;34m\u001b[0m\u001b[0m\n",
      "\u001b[0;31mOutOfMemoryError\u001b[0m: CUDA out of memory. Tried to allocate 80.00 MiB (GPU 0; 11.91 GiB total capacity; 11.14 GiB already allocated; 68.94 MiB free; 11.24 GiB reserved in total by PyTorch) If reserved memory is >> allocated memory try setting max_split_size_mb to avoid fragmentation.  See documentation for Memory Management and PYTORCH_CUDA_ALLOC_CONF"
     ]
    }
   ],
   "source": [
    "for i in trange(num_sent_samples):\n",
    "    sampled_sent = sents_sample[i] # sents[i] #\n",
    "    sampled_sent = ' '.join(sampled_sent.split(' ')[:sent_stop])\n",
    "    model(**{k: v.to(device) if isinstance(v, torch.Tensor) else v\n",
    "                      for k, v in tokenizer(sampled_sent, return_tensors='pt', truncation=True).items()})"
   ]
  },
  {
   "cell_type": "code",
   "execution_count": 22,
   "id": "cd725d34-20e1-47c0-a373-d13b4e509680",
   "metadata": {
    "collapsed": true,
    "jupyter": {
     "outputs_hidden": true
    },
    "tags": []
   },
   "outputs": [
    {
     "ename": "NameError",
     "evalue": "name 'model' is not defined",
     "output_type": "error",
     "traceback": [
      "\u001b[0;31m---------------------------------------------------------------------------\u001b[0m",
      "\u001b[0;31mNameError\u001b[0m                                 Traceback (most recent call last)",
      "\u001b[0;32m<ipython-input-22-96780429669f>\u001b[0m in \u001b[0;36m<module>\u001b[0;34m\u001b[0m\n\u001b[0;32m----> 1\u001b[0;31m \u001b[0;32mdel\u001b[0m \u001b[0mmodel\u001b[0m\u001b[0;34m\u001b[0m\u001b[0;34m\u001b[0m\u001b[0m\n\u001b[0m\u001b[1;32m      2\u001b[0m \u001b[0mtorch\u001b[0m\u001b[0;34m.\u001b[0m\u001b[0mcuda\u001b[0m\u001b[0;34m.\u001b[0m\u001b[0mempty_cache\u001b[0m\u001b[0;34m(\u001b[0m\u001b[0;34m)\u001b[0m\u001b[0;34m\u001b[0m\u001b[0;34m\u001b[0m\u001b[0m\n\u001b[1;32m      3\u001b[0m \u001b[0;32mimport\u001b[0m \u001b[0mgc\u001b[0m\u001b[0;34m\u001b[0m\u001b[0;34m\u001b[0m\u001b[0m\n\u001b[1;32m      4\u001b[0m \u001b[0mgc\u001b[0m\u001b[0;34m.\u001b[0m\u001b[0mcollect\u001b[0m\u001b[0;34m(\u001b[0m\u001b[0;34m)\u001b[0m\u001b[0;34m\u001b[0m\u001b[0;34m\u001b[0m\u001b[0m\n",
      "\u001b[0;31mNameError\u001b[0m: name 'model' is not defined"
     ]
    }
   ],
   "source": [
    "del model\n",
    "torch.cuda.empty_cache()\n",
    "import gc\n",
    "gc.collect()"
   ]
  },
  {
   "cell_type": "markdown",
   "id": "cd9d8d4b-ed94-426d-a1e9-693c4fb224ad",
   "metadata": {},
   "source": [
    "## Experiments"
   ]
  },
  {
   "cell_type": "code",
   "execution_count": 11,
   "id": "725a607e-735d-48e9-881c-4749605625d1",
   "metadata": {},
   "outputs": [],
   "source": [
    "max_explored_tokens = 1000\n",
    "k_ = 50\n",
    "k2 = k_\n",
    "only_ascii = False"
   ]
  },
  {
   "cell_type": "markdown",
   "id": "303f41ab-a99d-4e8c-b4ac-6745d410bbef",
   "metadata": {},
   "source": [
    "### Hidden States and Parameters"
   ]
  },
  {
   "cell_type": "code",
   "execution_count": 24,
   "id": "9eedb2f0-ede6-41a9-b1cd-a130ec1710e1",
   "metadata": {},
   "outputs": [
    {
     "data": {
      "application/vnd.jupyter.widget-view+json": {
       "model_id": "c4f5d3bb784140d9bd8ed9baa5170090",
       "version_major": 2,
       "version_minor": 0
      },
      "text/plain": [
       "  0%|          | 0/36 [00:00<?, ?it/s]"
      ]
     },
     "metadata": {},
     "output_type": "display_data"
    },
    {
     "ename": "IndexError",
     "evalue": "index 3726 is out of bounds for dimension 0 with size 3416",
     "output_type": "error",
     "traceback": [
      "\u001b[0;31m---------------------------------------------------------------------------\u001b[0m",
      "\u001b[0;31mIndexError\u001b[0m                                Traceback (most recent call last)",
      "\u001b[0;32m<ipython-input-24-1cc17437072d>\u001b[0m in \u001b[0;36m<module>\u001b[0;34m\u001b[0m\n\u001b[1;32m      6\u001b[0m                           k=5, dim=-1).indices\n\u001b[1;32m      7\u001b[0m     tmp1_pre_perm = torch.topk(\n\u001b[0;32m----> 8\u001b[0;31m         \u001b[0mtorch\u001b[0m\u001b[0;34m.\u001b[0m\u001b[0mcat\u001b[0m\u001b[0;34m(\u001b[0m\u001b[0;34m[\u001b[0m\u001b[0my\u001b[0m \u001b[0;32mfor\u001b[0m \u001b[0m_\u001b[0m\u001b[0;34m,\u001b[0m \u001b[0my\u001b[0m \u001b[0;32min\u001b[0m \u001b[0mmem\u001b[0m\u001b[0;34m[\u001b[0m\u001b[0;34mf'transformer.h.{i1}.mlp.c_fc'\u001b[0m\u001b[0;34m]\u001b[0m\u001b[0;34m]\u001b[0m\u001b[0;34m)\u001b[0m\u001b[0;34m[\u001b[0m\u001b[0mtorch\u001b[0m\u001b[0;34m.\u001b[0m\u001b[0mrandperm\u001b[0m\u001b[0;34m(\u001b[0m\u001b[0msum_lens\u001b[0m\u001b[0;34m)\u001b[0m\u001b[0;34m[\u001b[0m\u001b[0;34m:\u001b[0m\u001b[0mmax_explored_tokens\u001b[0m\u001b[0;34m]\u001b[0m\u001b[0;34m]\u001b[0m\u001b[0;34m,\u001b[0m\u001b[0;34m\u001b[0m\u001b[0;34m\u001b[0m\u001b[0m\n\u001b[0m\u001b[1;32m      9\u001b[0m                                k=5, dim=-1).indices\n\u001b[1;32m     10\u001b[0m     \u001b[0mtmp1_K\u001b[0m\u001b[0;34m,\u001b[0m \u001b[0mtmp1_V\u001b[0m \u001b[0;34m=\u001b[0m \u001b[0mK_heads\u001b[0m\u001b[0;34m[\u001b[0m\u001b[0mi1\u001b[0m\u001b[0;34m]\u001b[0m\u001b[0;34m[\u001b[0m\u001b[0mtmp1_pre\u001b[0m\u001b[0;34m]\u001b[0m \u001b[0;34m@\u001b[0m \u001b[0mE1\u001b[0m\u001b[0;34m,\u001b[0m \u001b[0mV_heads\u001b[0m\u001b[0;34m[\u001b[0m\u001b[0mi1\u001b[0m\u001b[0;34m]\u001b[0m\u001b[0;34m[\u001b[0m\u001b[0mtmp1_pre\u001b[0m\u001b[0;34m]\u001b[0m \u001b[0;34m@\u001b[0m \u001b[0mE1\u001b[0m\u001b[0;34m\u001b[0m\u001b[0;34m\u001b[0m\u001b[0m\n",
      "\u001b[0;31mIndexError\u001b[0m: index 3726 is out of bounds for dimension 0 with size 3416"
     ]
    }
   ],
   "source": [
    "real_K_recall, fake_K_recall, real_V_recall, fake_V_recall = [], [], [], []\n",
    "\n",
    "for i1 in trange(num_layers):\n",
    "    sum_lens = sum([len(x[0]) for x in mem[f'transformer.h.0.mlp.c_fc']])\n",
    "    tmp1_pre = torch.topk(torch.cat([y for _, y in mem[f'transformer.h.{i1}.mlp.c_fc']])[:max_explored_tokens], \n",
    "                          k=5, dim=-1).indices\n",
    "    tmp1_pre_perm = torch.topk(\n",
    "        torch.cat([y for _, y in mem[f'transformer.h.{i1}.mlp.c_fc']])[torch.randperm(sum_lens)[:max_explored_tokens]], \n",
    "                               k=5, dim=-1).indices\n",
    "    tmp1_K, tmp1_V = K_heads[i1][tmp1_pre] @ E1, V_heads[i1][tmp1_pre] @ E1\n",
    "    tmp1_K_perm, tmp1_V_perm = K_heads[i1][tmp1_pre_perm] @ E1, V_heads[i1][tmp1_pre_perm] @ E1\n",
    "    tmp2 = emb_func(torch.cat([y for _, y in mem[f'transformer.h.{i1}']])[:max_explored_tokens])\n",
    "\n",
    "    fake_K_recall.append(np.mean(_batched_recall_metric(tmp1_K_perm, tmp2, k=k_, k2=k2, only_ascii=only_ascii)))\n",
    "    real_K_recall.append(np.mean(_batched_recall_metric(tmp1_K, tmp2, k=k_, k2=k2, only_ascii=only_ascii)))\n",
    "    fake_V_recall.append(np.mean(_batched_recall_metric(tmp1_V_perm, tmp2, k=k_, k2=k2, only_ascii=only_ascii)))\n",
    "    real_V_recall.append(np.mean(_batched_recall_metric(tmp1_V, tmp2, k=k_, k2=k2, only_ascii=only_ascii)))"
   ]
  },
  {
   "cell_type": "code",
   "execution_count": 16,
   "id": "9958d6b2-b5c3-42e7-b7f7-a15392932474",
   "metadata": {},
   "outputs": [
    {
     "data": {
      "application/vnd.jupyter.widget-view+json": {
       "model_id": "19e598722c15496397ec66d84f6e9b21",
       "version_major": 2,
       "version_minor": 0
      },
      "text/plain": [
       "  0%|          | 0/24 [00:00<?, ?it/s]"
      ]
     },
     "metadata": {},
     "output_type": "display_data"
    }
   ],
   "source": [
    "real_WV_recall, fake_WV_recall, real_WO_recall, fake_WO_recall = [], [], [], []\n",
    "\n",
    "for i1 in trange(num_layers):\n",
    "    tmp1_pre = torch.topk(torch.cat(\n",
    "        [x for x, _ in mem[f'intermediate-transformer.h.{i1}.attn.c_proj']])[:max_explored_tokens], k=5, dim=-1).indices\n",
    "    tmp1_x, tmp1_y = np.unravel_index(tmp1_pre.numpy(), (num_heads, head_size))\n",
    "    del tmp1_pre\n",
    "    tmp1_WV, tmp1_WO = W_V_heads[i1, tmp1_x, :, tmp1_y] @ E1, W_O_heads[i1, tmp1_x, tmp1_y] @ E1\n",
    "    tmp1 = tmp1_WV\n",
    "    tmp2 = emb_func(torch.cat([y for _, y in mem[f'transformer.h.{i1}']])[:max_explored_tokens])\n",
    "    \n",
    "    fake_WV_recall.append(np.mean(_batched_recall_metric(tmp1_WV[torch.randperm(len(tmp1_WV))], tmp2, k=k_, k2=k2,\n",
    "                                                         only_ascii=only_ascii)))\n",
    "    real_WV_recall.append(np.mean(_batched_recall_metric(tmp1_WV, tmp2, k=k_, k2=k2, only_ascii=only_ascii)))\n",
    "    fake_WO_recall.append(np.mean(_batched_recall_metric(tmp1_WO[torch.randperm(len(tmp1_WO))], tmp2, k=k_, k2=k2,\n",
    "                                                         only_ascii=only_ascii)))\n",
    "    real_WO_recall.append(np.mean(_batched_recall_metric(tmp1_WO, tmp2, k=k_, k2=k2, only_ascii=only_ascii)))"
   ]
  },
  {
   "cell_type": "code",
   "execution_count": 17,
   "id": "602ac99c-0592-4dad-b664-6f131b68f4ae",
   "metadata": {},
   "outputs": [
    {
     "data": {
      "image/png": "[encoded data removed]",
      "text/plain": [
       "<Figure size 1080x648 with 4 Axes>"
      ]
     },
     "metadata": {
      "needs_background": "light"
     },
     "output_type": "display_data"
    }
   ],
   "source": [
    "_plot_comparison([(real_K_recall, fake_K_recall, \"$K$\"),\n",
    "                  (real_V_recall, fake_V_recall, \"$V$\"),\n",
    "                  (real_WV_recall, fake_WV_recall, \"$W_V$\"),\n",
    "                  (real_WO_recall, fake_WO_recall, \"$W_O$\")\n",
    "                 ])\n",
    "plt.savefig(\"artifacts/weights_vs_states.pdf\")"
   ]
  },
  {
   "cell_type": "markdown",
   "id": "2d1d5225-a132-4872-8444-06b0d18be353",
   "metadata": {},
   "source": [
    "### Related Parameter Pairs are Connected"
   ]
  },
  {
   "cell_type": "code",
   "execution_count": 12,
   "id": "487c6e97-fc17-4a8f-8df5-858fbad8342a",
   "metadata": {},
   "outputs": [],
   "source": [
    "intersections_dict = {}"
   ]
  },
  {
   "cell_type": "code",
   "execution_count": 13,
   "id": "8bb739d4-e207-4b0f-ad2d-55deb869c0e1",
   "metadata": {
    "tags": []
   },
   "outputs": [
    {
     "data": {
      "application/vnd.jupyter.widget-view+json": {
       "model_id": "503196db3c554d6590e34319eb3215e5",
       "version_major": 2,
       "version_minor": 0
      },
      "text/plain": [
       "  0%|          | 0/36 [00:00<?, ?it/s]"
      ]
     },
     "metadata": {},
     "output_type": "display_data"
    },
    {
     "data": {
      "application/vnd.jupyter.widget-view+json": {
       "model_id": "ed13a47e2b6e415abe370198e7fff027",
       "version_major": 2,
       "version_minor": 0
      },
      "text/plain": [
       "  0%|          | 0/36 [00:00<?, ?it/s]"
      ]
     },
     "metadata": {},
     "output_type": "display_data"
    }
   ],
   "source": [
    "intersections_dict['KV'] = np.array([_batched_sim(abs(K_heads[l] @ E1), abs(V_heads[l] @ E1)) for l in trange(num_layers)])\n",
    "\n",
    "intersections_dict['KV_shuffled'] = np.array([_batched_sim(abs(K_heads[l][torch.randperm(K_heads.shape[1])] @ E1), \n",
    "                                                            abs(V_heads[l] @ E1)) for l in trange(num_layers)])"
   ]
  },
  {
   "cell_type": "code",
   "execution_count": 20,
   "id": "301e2e24-7182-4afd-b496-7c1ae8a72677",
   "metadata": {},
   "outputs": [
    {
     "data": {
      "application/vnd.jupyter.widget-view+json": {
       "model_id": "888d4427760c46d39acbb60bd4861f1c",
       "version_major": 2,
       "version_minor": 0
      },
      "text/plain": [
       "  0%|          | 0/24 [00:00<?, ?it/s]"
      ]
     },
     "metadata": {},
     "output_type": "display_data"
    },
    {
     "data": {
      "application/vnd.jupyter.widget-view+json": {
       "model_id": "f40bf988472b4ac3a2a91ed4b8573247",
       "version_major": 2,
       "version_minor": 0
      },
      "text/plain": [
       "  0%|          | 0/24 [00:00<?, ?it/s]"
      ]
     },
     "metadata": {},
     "output_type": "display_data"
    }
   ],
   "source": [
    "intersections_dict['W_VO'] = np.array([_batched_sim(abs(W_V_heads[l].permute(0, 2, 1).flatten(0, 1) @ E1), \n",
    "                                                                  abs(W_O_heads[l].flatten(0, 1) @ E1)) \n",
    "                                           for l in trange(num_layers)])\n",
    "\n",
    "intersections_dict['W_VO_shuffled'] = np.array([_batched_sim(abs(W_V_heads[l].permute(0, 2, 1).flatten(0, 1) @ E1),\n",
    "                                                             abs(W_O_heads[l].flatten(0, 1)[torch.randperm(W_O_heads.size(-1))] @ E1)) \n",
    "                                                    for l in trange(num_layers)])"
   ]
  },
  {
   "cell_type": "code",
   "execution_count": 21,
   "id": "4ff8cb1e-9362-4202-9ec3-3491fe3a048f",
   "metadata": {},
   "outputs": [
    {
     "data": {
      "application/vnd.jupyter.widget-view+json": {
       "model_id": "a51158f03a7549e7a1c99838c0948b98",
       "version_major": 2,
       "version_minor": 0
      },
      "text/plain": [
       "  0%|          | 0/24 [00:00<?, ?it/s]"
      ]
     },
     "metadata": {},
     "output_type": "display_data"
    },
    {
     "data": {
      "application/vnd.jupyter.widget-view+json": {
       "model_id": "fd0e5b14b7d04c53beb654927a4e1652",
       "version_major": 2,
       "version_minor": 0
      },
      "text/plain": [
       "  0%|          | 0/24 [00:00<?, ?it/s]"
      ]
     },
     "metadata": {},
     "output_type": "display_data"
    }
   ],
   "source": [
    "intersections_dict['W_QK'] = np.array([_batched_sim(abs(W_Q_heads[l].permute(0, 2, 1).flatten(0, 1) @ E1), \n",
    "                                                    abs(W_K_heads[l].permute(0, 2, 1).flatten(0, 1) @ E1)) \n",
    "                                           for l in trange(num_layers)])\n",
    "\n",
    "intersections_dict['W_QK_shuffled'] = np.array([_batched_sim(abs(W_Q_heads[l].permute(0, 2, 1).flatten(0, 1) @ E1), \n",
    "                                    abs(W_K_heads[l].permute(0, 2, 1).flatten(0, 1)[torch.randperm(W_K_heads.size(-1))] @ E1)) \n",
    "                                    for l in trange(num_layers)])"
   ]
  },
  {
   "cell_type": "code",
   "execution_count": 27,
   "id": "3bfee8fb-89bc-4410-81c6-07aaa0f6217b",
   "metadata": {},
   "outputs": [
    {
     "ename": "KeyError",
     "evalue": "'W_VO'",
     "output_type": "error",
     "traceback": [
      "\u001b[0;31m---------------------------------------------------------------------------\u001b[0m",
      "\u001b[0;31mKeyError\u001b[0m                                  Traceback (most recent call last)",
      "\u001b[0;32m<ipython-input-27-7829e76ed9bf>\u001b[0m in \u001b[0;36m<module>\u001b[0;34m\u001b[0m\n\u001b[1;32m      1\u001b[0m _plot_comparison([(np.mean(intersections_dict['KV'], axis=-1), np.mean(intersections_dict['KV_shuffled'], axis=-1), '$K$ and $V$'),\n\u001b[0;32m----> 2\u001b[0;31m                   \u001b[0;34m(\u001b[0m\u001b[0mnp\u001b[0m\u001b[0;34m.\u001b[0m\u001b[0mmean\u001b[0m\u001b[0;34m(\u001b[0m\u001b[0mintersections_dict\u001b[0m\u001b[0;34m[\u001b[0m\u001b[0;34m'W_VO'\u001b[0m\u001b[0;34m]\u001b[0m\u001b[0;34m,\u001b[0m \u001b[0maxis\u001b[0m\u001b[0;34m=\u001b[0m\u001b[0;34m-\u001b[0m\u001b[0;36m1\u001b[0m\u001b[0;34m)\u001b[0m\u001b[0;34m,\u001b[0m \u001b[0mnp\u001b[0m\u001b[0;34m.\u001b[0m\u001b[0mmean\u001b[0m\u001b[0;34m(\u001b[0m\u001b[0mintersections_dict\u001b[0m\u001b[0;34m[\u001b[0m\u001b[0;34m'W_VO_shuffled'\u001b[0m\u001b[0;34m]\u001b[0m\u001b[0;34m,\u001b[0m \u001b[0maxis\u001b[0m\u001b[0;34m=\u001b[0m\u001b[0;34m-\u001b[0m\u001b[0;36m1\u001b[0m\u001b[0;34m)\u001b[0m\u001b[0;34m,\u001b[0m \u001b[0;34m'$W_V$ and $W_O$'\u001b[0m\u001b[0;34m)\u001b[0m\u001b[0;34m,\u001b[0m\u001b[0;34m\u001b[0m\u001b[0;34m\u001b[0m\u001b[0m\n\u001b[0m\u001b[1;32m      3\u001b[0m                  ], figsize=(14, 4), legend=False) # , figsize=(35, 7), plots_per_row=3\n\u001b[1;32m      4\u001b[0m \u001b[0mplt\u001b[0m\u001b[0;34m.\u001b[0m\u001b[0msavefig\u001b[0m\u001b[0;34m(\u001b[0m\u001b[0;34m'artifacts/related_pairs1.pdf'\u001b[0m\u001b[0;34m)\u001b[0m\u001b[0;34m\u001b[0m\u001b[0;34m\u001b[0m\u001b[0m\n",
      "\u001b[0;31mKeyError\u001b[0m: 'W_VO'"
     ]
    }
   ],
   "source": [
    "_plot_comparison([(np.mean(intersections_dict['KV'], axis=-1), np.mean(intersections_dict['KV_shuffled'], axis=-1), '$K$ and $V$'),\n",
    "                  (np.mean(intersections_dict['W_VO'], axis=-1), np.mean(intersections_dict['W_VO_shuffled'], axis=-1), '$W_V$ and $W_O$'),\n",
    "                 ], figsize=(14, 4), legend=False) # , figsize=(35, 7), plots_per_row=3\n",
    "plt.savefig('artifacts/related_pairs1.pdf')"
   ]
  },
  {
   "cell_type": "code",
   "execution_count": 23,
   "id": "a5ee11c5-0003-4be7-8970-3687d3330029",
   "metadata": {},
   "outputs": [
    {
     "data": {
      "image/png": "[encoded data removed]",
      "text/plain": [
       "<Figure size 648x432 with 1 Axes>"
      ]
     },
     "metadata": {
      "needs_background": "light"
     },
     "output_type": "display_data"
    }
   ],
   "source": [
    "_plot_comparison([(np.mean(intersections_dict['W_QK'], axis=-1), np.mean(intersections_dict['W_QK_shuffled'], axis=-1), \n",
    "                   '$W_Q$ and $W_K$')], figsize=(9, 6), plots_per_row=1)\n",
    "plt.savefig('artifacts/related_pairs2.pdf')"
   ]
  },
  {
   "cell_type": "markdown",
   "id": "886db553-2283-46d6-a71d-7da715facce4",
   "metadata": {},
   "source": [
    "### Finding Interesting K, V Pairs"
   ]
  },
  {
   "cell_type": "code",
   "execution_count": 16,
   "id": "c583d257-0761-4fad-8c9c-f817793535a8",
   "metadata": {},
   "outputs": [
    {
     "data": {
      "application/vnd.jupyter.widget-view+json": {
       "model_id": "7686f9828f344e74a698b91e1c84d55f",
       "version_major": 2,
       "version_minor": 0
      },
      "text/plain": [
       "  0%|          | 0/36 [00:00<?, ?it/s]"
      ]
     },
     "metadata": {},
     "output_type": "display_data"
    }
   ],
   "source": [
    "sim_scores = np.stack([_batched_sim(K_heads[l] @ E1, V_heads[l] @ E1) for l in trange(num_layers)])"
   ]
  },
  {
   "cell_type": "code",
   "execution_count": 26,
   "id": "a9d32d1b-5f49-4c25-beb3-1e931b459f4c",
   "metadata": {},
   "outputs": [],
   "source": [
    "interesting_pairs = torch.nonzero(torch.from_numpy(sim_scores) > .4)"
   ]
  },
  {
   "cell_type": "code",
   "execution_count": 27,
   "id": "b120d7d5-fe3d-49b9-bf62-66590c30bad0",
   "metadata": {},
   "outputs": [
    {
     "data": {
      "text/plain": [
       "tensor([[   6, 2152],\n",
       "        [   6, 2164],\n",
       "        [   6, 2180],\n",
       "        [   6, 2201],\n",
       "        [   6, 2247],\n",
       "        [   6, 2263],\n",
       "        [   6, 2298],\n",
       "        [   6, 2299],\n",
       "        [   6, 2308],\n",
       "        [   6, 2325],\n",
       "        [   6, 2350],\n",
       "        [   6, 2356],\n",
       "        [   6, 2391],\n",
       "        [   6, 2527],\n",
       "        [   6, 2568],\n",
       "        [   6, 2581],\n",
       "        [   6, 2589],\n",
       "        [   6, 2657],\n",
       "        [   6, 2784],\n",
       "        [   6, 2852],\n",
       "        [   6, 2864],\n",
       "        [   6, 2874],\n",
       "        [   6, 2881],\n",
       "        [   6, 2922],\n",
       "        [   6, 2928],\n",
       "        [   6, 3076],\n",
       "        [   6, 3085],\n",
       "        [   6, 3187],\n",
       "        [   6, 3215],\n",
       "        [   6, 3232],\n",
       "        [   6, 3297],\n",
       "        [   6, 3300],\n",
       "        [   6, 3304],\n",
       "        [   6, 3325],\n",
       "        [   6, 3339],\n",
       "        [   6, 3352],\n",
       "        [   6, 3358],\n",
       "        [   6, 3369],\n",
       "        [   6, 3370],\n",
       "        [   6, 3388],\n",
       "        [   6, 3403],\n",
       "        [   6, 3500],\n",
       "        [   6, 3555],\n",
       "        [   6, 3557],\n",
       "        [   6, 3560],\n",
       "        [   6, 3607],\n",
       "        [   6, 3635],\n",
       "        [   6, 3745],\n",
       "        [   6, 3765],\n",
       "        [   6, 3769],\n",
       "        [   6, 3871],\n",
       "        [   6, 3899],\n",
       "        [   6, 3914],\n",
       "        [   6, 3918],\n",
       "        [   6, 3980],\n",
       "        [   6, 3985],\n",
       "        [   6, 3993],\n",
       "        [   6, 4020],\n",
       "        [   6, 4095],\n",
       "        [   6, 4218],\n",
       "        [   6, 4250],\n",
       "        [   6, 4275],\n",
       "        [   6, 4341],\n",
       "        [   6, 4404],\n",
       "        [   6, 4448],\n",
       "        [   6, 4508],\n",
       "        [   6, 4556],\n",
       "        [   6, 4565],\n",
       "        [   6, 4627],\n",
       "        [   6, 4631],\n",
       "        [   6, 4636],\n",
       "        [   6, 4669],\n",
       "        [   6, 4697],\n",
       "        [   6, 4750],\n",
       "        [   6, 4752],\n",
       "        [   6, 4786],\n",
       "        [   6, 4790],\n",
       "        [   6, 4841],\n",
       "        [   6, 4845],\n",
       "        [   6, 4892],\n",
       "        [   6, 4919],\n",
       "        [   6, 4921],\n",
       "        [   6, 4936],\n",
       "        [   6, 4941],\n",
       "        [   6, 4948],\n",
       "        [   6, 5119],\n",
       "        [   7,   63],\n",
       "        [   7,   69],\n",
       "        [   7,  163],\n",
       "        [   7,  214],\n",
       "        [   7,  236],\n",
       "        [   7,  268],\n",
       "        [   7,  300],\n",
       "        [   7,  304],\n",
       "        [   7,  325],\n",
       "        [   7,  327],\n",
       "        [   7,  336],\n",
       "        [   7,  346],\n",
       "        [   7,  373],\n",
       "        [   7,  458]])"
      ]
     },
     "execution_count": 27,
     "metadata": {},
     "output_type": "execute_result"
    }
   ],
   "source": [
    "interesting_pairs[1000:1100]"
   ]
  },
  {
   "cell_type": "markdown",
   "id": "8f1e7fe5-c7f2-41ee-9f4e-0becde6b7f9f",
   "metadata": {},
   "source": [
    "### Model Logits (*Last* Hidden States) and Parameters"
   ]
  },
  {
   "cell_type": "code",
   "execution_count": 194,
   "id": "1b605908-6a52-4c49-88ec-202f8fd45a30",
   "metadata": {},
   "outputs": [
    {
     "data": {
      "application/vnd.jupyter.widget-view+json": {
       "model_id": "1d55522b52ca463b8ac4b7a399cb577c",
       "version_major": 2,
       "version_minor": 0
      },
      "text/plain": [
       "  0%|          | 0/24 [00:00<?, ?it/s]"
      ]
     },
     "metadata": {},
     "output_type": "display_data"
    }
   ],
   "source": [
    "real_K_recall2, fake_K_recall2, real_V_recall2, fake_V_recall2 = [], [], [], []\n",
    "\n",
    "for i1 in trange(num_layers):\n",
    "    sum_lens = sum([len(x[0]) for x in mem[f'transformer.h.0.mlp.c_fc']])\n",
    "    tmp1_pre = torch.topk(torch.cat([y for _, y in mem[f'transformer.h.{i1}.mlp.c_fc']])[:max_explored_tokens], \n",
    "                          k=5, dim=-1).indices\n",
    "    tmp1_pre_perm = torch.topk(\n",
    "        torch.cat([y for _, y in mem[f'transformer.h.{i1}.mlp.c_fc']])[torch.randperm(sum_lens)[:max_explored_tokens]], \n",
    "                               k=5, dim=-1).indices\n",
    "    tmp1_K, tmp1_V = K_heads[i1][tmp1_pre] @ E1, V_heads[i1][tmp1_pre] @ E1\n",
    "    tmp1_K_perm, tmp1_V_perm = K_heads[i1][tmp1_pre_perm] @ E1, V_heads[i1][tmp1_pre_perm] @ E1\n",
    "    tmp2 = emb_func(torch.cat([y for _, y in mem[f'transformer.h.{num_layers-1}']])[:max_explored_tokens])\n",
    "\n",
    "    fake_K_recall2.append(np.mean(_batched_recall_metric(tmp1_K_perm, tmp2, k=k_, k2=k2, only_ascii=only_ascii)))\n",
    "    real_K_recall2.append(np.mean(_batched_recall_metric(tmp1_K, tmp2, k=k_, k2=k2, only_ascii=only_ascii)))\n",
    "    fake_V_recall2.append(np.mean(_batched_recall_metric(tmp1_V_perm, tmp2, k=k_, k2=k2, only_ascii=only_ascii)))\n",
    "    real_V_recall2.append(np.mean(_batched_recall_metric(tmp1_V, tmp2, k=k_, k2=k2, only_ascii=only_ascii)))"
   ]
  },
  {
   "cell_type": "code",
   "execution_count": 195,
   "id": "a2ecfd6c-bc4d-497b-aaf0-9437976660bd",
   "metadata": {},
   "outputs": [
    {
     "data": {
      "application/vnd.jupyter.widget-view+json": {
       "model_id": "abe0aef026884901a26e730d9a42d7f6",
       "version_major": 2,
       "version_minor": 0
      },
      "text/plain": [
       "  0%|          | 0/24 [00:00<?, ?it/s]"
      ]
     },
     "metadata": {},
     "output_type": "display_data"
    }
   ],
   "source": [
    "real_WV_recall2, fake_WV_recall2, real_WO_recall2, fake_WO_recall2 = [], [], [], []\n",
    "\n",
    "for i1 in trange(num_layers):\n",
    "    tmp1_pre = torch.topk(torch.cat(\n",
    "        [x for x, _ in mem[f'intermediate-transformer.h.{i1}.attn.c_proj']])[:max_explored_tokens], \n",
    "                          k=5, dim=-1).indices\n",
    "    tmp1_x, tmp1_y = np.unravel_index(tmp1_pre.numpy(), (num_heads, head_size))\n",
    "    del tmp1_pre\n",
    "    tmp1_WV, tmp1_WO = W_V_heads[i1, tmp1_x, :, tmp1_y] @ E1, W_O_heads[i1, tmp1_x, tmp1_y] @ E1\n",
    "    tmp1 = tmp1_WV\n",
    "    tmp2 = emb_func(torch.cat([y for _, y in mem[f'transformer.h.{num_layers-1}']])[:max_explored_tokens])\n",
    "    fake_WV_recall2.append(np.mean(_batched_recall_metric(tmp1_WV[torch.randperm(len(tmp1_WV))], tmp2, \n",
    "                                                          k=k_, k2=k2, only_ascii=only_ascii)))\n",
    "    real_WV_recall2.append(np.mean(_batched_recall_metric(tmp1_WV, tmp2, k=k_, k2=k2, only_ascii=only_ascii)))\n",
    "    fake_WO_recall2.append(np.mean(_batched_recall_metric(tmp1_WO[torch.randperm(len(tmp1_WO))], tmp2, \n",
    "                                                          k=k_, k2=k2, only_ascii=only_ascii)))\n",
    "    real_WO_recall2.append(np.mean(_batched_recall_metric(tmp1_WO, tmp2, k=k_, k2=k2, only_ascii=only_ascii)))"
   ]
  },
  {
   "cell_type": "code",
   "execution_count": 230,
   "id": "5165346e-cbcd-4737-9062-85debfc1cdb4",
   "metadata": {},
   "outputs": [
    {
     "data": {
      "image/png": "[encoded data removed]",
      "text/plain": [
       "<Figure size 1080x648 with 4 Axes>"
      ]
     },
     "metadata": {
      "needs_background": "light"
     },
     "output_type": "display_data"
    }
   ],
   "source": [
    "_plot_comparison([(real_K_recall2, fake_K_recall2, \"$K$\"),\n",
    "                  (real_V_recall2, fake_V_recall2, \"$V$\"),\n",
    "                  (real_WV_recall2, fake_WV_recall2, \"$W_V$\"),\n",
    "                  (real_WO_recall2, fake_WO_recall2, \"$W_O$\")\n",
    "                 ])\n",
    "plt.savefig(\"artifacts/weights_vs_logits.pdf\")"
   ]
  },
  {
   "cell_type": "markdown",
   "id": "d7fb4cc7-16c6-4fdd-90ce-d9d257c5a7ab",
   "metadata": {},
   "source": [
    "## Bonus: Comparing Inverses"
   ]
  },
  {
   "cell_type": "code",
   "execution_count": 24,
   "id": "24f9bf80-6789-4c51-817d-d2aaee4e5441",
   "metadata": {},
   "outputs": [],
   "source": [
    "def _choose_from_tensor(tensor, n):\n",
    "    tensor = tensor.view(-1, tensor.size(-1))\n",
    "    return tensor[torch.randperm(len(tensor))[:n]]"
   ]
  },
  {
   "cell_type": "code",
   "execution_count": 25,
   "id": "f9507db9-8cc0-42dd-a8f8-abef8ba454c1",
   "metadata": {},
   "outputs": [],
   "source": [
    "n_samples = 1000"
   ]
  },
  {
   "cell_type": "code",
   "execution_count": 26,
   "id": "10a6b201-132e-478d-b280-c98160b80004",
   "metadata": {},
   "outputs": [],
   "source": [
    "X_ff_values = _choose_from_tensor(V, n=n_samples).cuda()\n",
    "X_randn = torch.randn(n_samples, hidden_dim).cuda()"
   ]
  },
  {
   "cell_type": "code",
   "execution_count": 27,
   "id": "cf5b1bd6-38d7-48b4-bc41-624d545aa444",
   "metadata": {},
   "outputs": [],
   "source": [
    "X_hidden = [torch.cat([out_state for (_, out_state) in val], dim=0) \n",
    "            for (name, val) in mem.items() if re.search(r'transformer\\.h\\.\\d+$', name)]\n",
    "X_hidden = torch.cat(X_hidden, dim=0)\n",
    "X_hidden = _choose_from_tensor(X_hidden, n=n_samples).cuda()"
   ]
  },
  {
   "cell_type": "markdown",
   "id": "dccb6f24-5e98-4cfd-af6c-66c3edbd567a",
   "metadata": {},
   "source": [
    "### keep-k inverse robustness"
   ]
  },
  {
   "cell_type": "code",
   "execution_count": 28,
   "id": "8fded5fb-41cd-48f3-a9f9-793819bc0dd7",
   "metadata": {},
   "outputs": [],
   "source": [
    "from utils import keep_k"
   ]
  },
  {
   "cell_type": "code",
   "execution_count": 29,
   "id": "aaf80e94-c5fd-46f1-b91d-cd8a6cd2aa8f",
   "metadata": {},
   "outputs": [],
   "source": [
    "E = emb"
   ]
  },
  {
   "cell_type": "code",
   "execution_count": 30,
   "id": "627d80b6-c7c2-494a-a1d2-78c0404a9ca8",
   "metadata": {},
   "outputs": [],
   "source": [
    "E_inv = E.pinverse()"
   ]
  },
  {
   "cell_type": "code",
   "execution_count": 31,
   "id": "5215fa2f-f3cc-4334-9363-d358e628c3c2",
   "metadata": {},
   "outputs": [],
   "source": [
    "plot_pos_low = [10,  50, 100, 200, 300, 500]\n",
    "plot_pos_high = [512, 1024 , 2048, 4096, 10_000, 15_000, 20_000, 30_000]"
   ]
  },
  {
   "cell_type": "code",
   "execution_count": 34,
   "id": "ed4c63d4-ad4f-41f7-b345-b7c2d5baf1e8",
   "metadata": {},
   "outputs": [],
   "source": [
    "plot_range = 'high'"
   ]
  },
  {
   "cell_type": "code",
   "execution_count": 35,
   "id": "c4b15ce5-8e4f-415f-92d3-93049d35971f",
   "metadata": {},
   "outputs": [
    {
     "data": {
      "image/png": "[encoded data removed]",
      "text/plain": [
       "<Figure size 504x360 with 1 Axes>"
      ]
     },
     "metadata": {
      "needs_background": "light"
     },
     "output_type": "display_data"
    }
   ],
   "source": [
    "plt.figure(figsize=(7, 5))\n",
    "markers = ['^', 's', 'P']\n",
    "plot_pos = plot_pos_low if plot_range == 'low' else plot_pos_high\n",
    "\n",
    "for i, (X, label) in enumerate([(X_randn, \"normal distribution\"), (X_ff_values, \"FF values\"), (X_hidden, \"hidden states\")]):\n",
    "    plot_scores_E = []\n",
    "    plot_scores_inv = []\n",
    "\n",
    "    for k1 in plot_pos:\n",
    "        plot_scores_E.append(F.cosine_similarity((X @ X.T).ravel(),\n",
    "                                               (keep_k(X @ E, k=k1) @ keep_k(X @ E, k=k1).T).ravel(), dim=0).item())\n",
    "        plot_scores_inv.append(F.cosine_similarity((X @ X.T).ravel(),\n",
    "                                               (keep_k(X @ E, k=k1) @ keep_k(X @ E_inv.T, k=k1).T).ravel(), dim=0).item())\n",
    "    plt.plot(plot_pos, plot_scores_E, c=cmap[i], label=label, marker=markers[i], markersize=8)\n",
    "    plt.plot(plot_pos, plot_scores_inv, '--', c=cmap[i], marker=markers[i], markersize=8);\n",
    "\n",
    "plt.legend()\n",
    "plt.savefig(\"artifacts/e_vs_e_inv.pdf\" if plot_range == 'low' else \"artifacts/e_vs_e_inv_high.pdf\");"
   ]
  }
 ],
 "metadata": {
  "kernelspec": {
   "display_name": "Python 3",
   "language": "python",
   "name": "python3"
  },
  "language_info": {
   "codemirror_mode": {
    "name": "ipython",
    "version": 3
   },
   "file_extension": ".py",
   "mimetype": "text/x-python",
   "name": "python",
   "nbconvert_exporter": "python",
   "pygments_lexer": "ipython3",
   "version": "3.8.13"
  }
 },
 "nbformat": 4,
 "nbformat_minor": 5
}
