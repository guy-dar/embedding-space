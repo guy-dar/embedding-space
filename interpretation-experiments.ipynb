{
 "cells": [
  {
   "cell_type": "markdown",
   "id": "7c26c493-d2cc-4f20-9bb1-daecce8f60c8",
   "metadata": {},
   "source": [
    "## Init"
   ]
  },
  {
   "cell_type": "code",
   "execution_count": 1,
   "id": "25b40a90-625d-4c8a-9ae0-78e822f7ee8d",
   "metadata": {},
   "outputs": [],
   "source": [
    "import numpy as np\n",
    "import matplotlib.pyplot as plt\n",
    "import seaborn as sns\n",
    "import gc\n",
    "from copy import deepcopy\n",
    "from tqdm.auto import tqdm, trange\n",
    "import re\n",
    "import torch\n",
    "from torch import nn\n",
    "import torch.nn.functional as F\n",
    "from collections import defaultdict\n",
    "from utils import load_imdb\n",
    "from transformers import AutoModelForCausalLM, AutoTokenizer"
   ]
  },
  {
   "cell_type": "code",
   "execution_count": 2,
   "id": "1e2c998d-4527-40fe-b29d-27a32cb20267",
   "metadata": {},
   "outputs": [],
   "source": [
    "device = 'cuda'\n",
    "model = AutoModelForCausalLM.from_pretrained('gpt2-medium').to(device)\n",
    "tokenizer = AutoTokenizer.from_pretrained(\"gpt2-medium\")"
   ]
  },
  {
   "cell_type": "code",
   "execution_count": 3,
   "id": "a48c95ff-9ac6-4a61-91b5-475b1a05026b",
   "metadata": {},
   "outputs": [],
   "source": [
    "emb = model.get_output_embeddings().weight.data.T\n",
    "num_layers = model.config.n_layer\n",
    "num_heads = model.config.n_head\n",
    "hidden_dim = model.config.n_embd\n",
    "head_size = hidden_dim // num_heads\n",
    "\n",
    "K = torch.cat([model.get_parameter(f\"transformer.h.{j}.mlp.c_fc.weight\").T\n",
    "                           for j in range(num_layers)]).detach()\n",
    "V = torch.cat([model.get_parameter(f\"transformer.h.{j}.mlp.c_proj.weight\")\n",
    "                           for j in range(num_layers)]).detach()\n",
    "W_Q, W_K, W_V = torch.cat([model.get_parameter(f\"transformer.h.{j}.attn.c_attn.weight\") \n",
    "                           for j in range(num_layers)]).detach().chunk(3, dim=-1)\n",
    "W_O = torch.cat([model.get_parameter(f\"transformer.h.{j}.attn.c_proj.weight\") \n",
    "                           for j in range(num_layers)]).detach()\n",
    "\n",
    "K_heads = K.reshape(num_layers, -1, hidden_dim)\n",
    "V_heads = V.reshape(num_layers, -1, hidden_dim)\n",
    "d_int = K_heads.shape[1]\n",
    "\n",
    "W_V_heads = W_V.reshape(num_layers, hidden_dim, num_heads, head_size).permute(0, 2, 1, 3)\n",
    "W_O_heads = W_O.reshape(num_layers, num_heads, head_size, hidden_dim)\n",
    "W_Q_heads = W_Q.reshape(num_layers, hidden_dim, num_heads, head_size).permute(0, 2, 1, 3)\n",
    "W_K_heads = W_K.reshape(num_layers, hidden_dim, num_heads, head_size).permute(0, 2, 1, 3)"
   ]
  },
  {
   "cell_type": "code",
   "execution_count": 4,
   "id": "f67fe00c-2b3f-43b9-8356-0b46dac0687b",
   "metadata": {},
   "outputs": [
    {
     "name": "stderr",
     "output_type": "stream",
     "text": [
      "Reusing dataset imdb (/home/guydar/.cache/huggingface/datasets/imdb/plain_text/1.0.0/e3c66f1788a67a89c7058d97ff62b6c30531e05b549de56d3ab91891f0561f9a)\n"
     ]
    },
    {
     "data": {
      "application/vnd.jupyter.widget-view+json": {
       "model_id": "34ec809c22154e7485d8f8d3e5506b80",
       "version_major": 2,
       "version_minor": 0
      },
      "text/plain": [
       "  0%|          | 0/3 [00:00<?, ?it/s]"
      ]
     },
     "metadata": {},
     "output_type": "display_data"
    }
   ],
   "source": [
    "sents = load_imdb()\n",
    "sents = [s for s in sents if len(s) > 100]"
   ]
  },
  {
   "cell_type": "code",
   "execution_count": 5,
   "id": "5ce6b564-e8e5-4a94-9e23-7f761b4d4de9",
   "metadata": {},
   "outputs": [],
   "source": [
    "ln_f = model.transformer.ln_f\n",
    "emb_cpu = deepcopy(emb).cpu()\n",
    "ln_f_cpu = deepcopy(ln_f).cpu()\n",
    "emb_func = lambda x: ln_f_cpu(x) @ emb_cpu\n",
    "E1 = emb"
   ]
  },
  {
   "cell_type": "markdown",
   "id": "a98daaca-0465-4822-a115-52af78afcc6c",
   "metadata": {},
   "source": [
    "### Functions"
   ]
  },
  {
   "cell_type": "code",
   "execution_count": 6,
   "id": "9c92194b-ea12-418e-8e6e-2e779d2d7b57",
   "metadata": {},
   "outputs": [],
   "source": [
    "def _batched_recall_metric(xs, y, k=20, k2=3, only_ascii=False):\n",
    "    if k2 is None:\n",
    "        k2 = k\n",
    "    out = []\n",
    "    xs_idx = torch.topk(xs, k=k, dim=-1).indices\n",
    "    y_idx = torch.topk(y, k=k2, dim=-1).indices\n",
    "    for i in range(len(y)):\n",
    "        A = set(xs_idx[i].ravel().cpu().tolist())\n",
    "        B = set(y_idx[i].cpu().tolist())\n",
    "        if only_ascii:\n",
    "            A, B = map(lambda X: {x for x in X if tokenizer.decode(x).isascii()}, (A, B))\n",
    "        out.append(len(A & B) / len(B))\n",
    "    return out        "
   ]
  },
  {
   "cell_type": "code",
   "execution_count": 7,
   "id": "315137c6-daba-4f8e-bb28-4796d1952ed5",
   "metadata": {},
   "outputs": [],
   "source": [
    "def _batched_sim(x, y, k=100):\n",
    "    out = []\n",
    "    x_idx = torch.topk(x, k=k, dim=-1).indices\n",
    "    y_idx = torch.topk(y, k=k, dim=-1).indices\n",
    "    for i in range(len(y)):\n",
    "        A, B = set(x_idx[i].cpu().tolist()), set(y_idx[i].cpu().tolist())\n",
    "        out.append(len(A & B) / len(A | B))\n",
    "    return out"
   ]
  },
  {
   "cell_type": "code",
   "execution_count": 22,
   "id": "f2e09aff-e0bb-479d-8451-099cb752d6d2",
   "metadata": {},
   "outputs": [],
   "source": [
    "def _plot_comparison(tuples_by_layers):\n",
    "    plt.figure(figsize=(15, 9))\n",
    "    for i, (real, fake, param_name) in enumerate(tuples_by_layers):\n",
    "        plt.subplot(2, 2, i + 1)\n",
    "        plt.title(param_name)\n",
    "        sns.barplot(x='x', y='y', hue='hue',\n",
    "                    data={'x': [*np.arange(num_layers), *np.arange(num_layers)],\n",
    "                          'y': [*real, *fake],\n",
    "                          'hue': (['aligned'] * num_layers) + (['shuffled'] * num_layers)\n",
    "                    })"
   ]
  },
  {
   "cell_type": "markdown",
   "id": "7dd465b4-4175-4e19-b628-08b6d47de314",
   "metadata": {},
   "source": [
    "### Memorize Intermediate States"
   ]
  },
  {
   "cell_type": "code",
   "execution_count": 8,
   "id": "139dc0d4-172a-4a00-bdf5-d689d5199419",
   "metadata": {
    "tags": []
   },
   "outputs": [],
   "source": [
    "mem = defaultdict(list)\n",
    "def _memorize_inp_outp(sm, only_last=None):\n",
    "    global tokenizer\n",
    "    def f(m, inp, outp):\n",
    "        inp = inp[0]\n",
    "        outp = outp[0]\n",
    "        if only_last:\n",
    "            inp, outp = inp[-only_last:], outp[-only_last:]\n",
    "        inp, outp = (inp.squeeze(), outp.squeeze())\n",
    "\n",
    "        if 'attn.c_proj' in sm:\n",
    "            mem[f\"intermediate-{sm}\"].append((inp.cpu().detach(), outp.cpu().detach()))\n",
    "            inp = inp.reshape(inp.shape[0], num_heads, head_size)\n",
    "            layer_idx = int(re.search(r'\\.h\\.(\\d+)\\.', sm).group(1))\n",
    "            inp_ = torch.empty(inp.shape[0], inp.shape[1], hidden_dim)\n",
    "            for head_idx in range(inp.shape[1]):\n",
    "                inp_[:, head_idx] = (inp[:, head_idx].unsqueeze(1) @ W_O_heads[layer_idx][head_idx]).squeeze()\n",
    "            inp = inp_\n",
    "        mem[sm].append((inp.cpu().detach(), outp.cpu().detach()))\n",
    "    return f\n",
    "    \n",
    "submodules = [\n",
    "              *[f'transformer.h.{j}.attn' for j in range(num_layers)],\n",
    "              *[f'transformer.h.{j}.attn.c_proj' for j in range(num_layers)],\n",
    "              *[f'transformer.h.{j}' for j in range(num_layers)],\n",
    "              *[f'transformer.h.{j}.mlp.c_fc' for j in range(num_layers)],\n",
    "            ]\n",
    "if 'mem_hooks' in globals():\n",
    "    [h.remove() for h in mem_hooks]\n",
    "mem_hooks = []\n",
    "for sm in submodules:\n",
    "    mem_hooks.append(model.get_submodule(sm).register_forward_hook(_memorize_inp_outp(sm)))"
   ]
  },
  {
   "cell_type": "code",
   "execution_count": 9,
   "id": "c3eca3ef-4f36-477c-a3d9-e76111977fec",
   "metadata": {},
   "outputs": [],
   "source": [
    "sent_stop = 1024\n",
    "num_sent_samples = 60\n",
    "sents_sample = np.random.choice(sents, size=num_sent_samples)"
   ]
  },
  {
   "cell_type": "code",
   "execution_count": 10,
   "id": "0cda4508-9471-49b8-8225-21cf1acdd9f2",
   "metadata": {
    "scrolled": true,
    "tags": []
   },
   "outputs": [
    {
     "data": {
      "application/vnd.jupyter.widget-view+json": {
       "model_id": "74e6893f60884fb99316b6ded38d6021",
       "version_major": 2,
       "version_minor": 0
      },
      "text/plain": [
       "  0%|          | 0/60 [00:00<?, ?it/s]"
      ]
     },
     "metadata": {},
     "output_type": "display_data"
    }
   ],
   "source": [
    "for i in trange(num_sent_samples):\n",
    "    sampled_sent = sents_sample[i] # sents[i] #\n",
    "    sampled_sent = ' '.join(sampled_sent.split(' ')[:sent_stop])\n",
    "    model(**{k: v.to(device) if isinstance(v, torch.Tensor) else v\n",
    "                      for k, v in tokenizer(sampled_sent, return_tensors='pt', truncation=True).items()})"
   ]
  },
  {
   "cell_type": "markdown",
   "id": "cd9d8d4b-ed94-426d-a1e9-693c4fb224ad",
   "metadata": {},
   "source": [
    "## Experiments"
   ]
  },
  {
   "cell_type": "code",
   "execution_count": 21,
   "id": "725a607e-735d-48e9-881c-4749605625d1",
   "metadata": {},
   "outputs": [],
   "source": [
    "max_explored_tokens = 1000\n",
    "k_ = 15\n",
    "k2 = 3\n",
    "only_ascii = False"
   ]
  },
  {
   "cell_type": "markdown",
   "id": "303f41ab-a99d-4e8c-b4ac-6745d410bbef",
   "metadata": {},
   "source": [
    "### Hidden States and Parameters"
   ]
  },
  {
   "cell_type": "code",
   "execution_count": 12,
   "id": "9eedb2f0-ede6-41a9-b1cd-a130ec1710e1",
   "metadata": {},
   "outputs": [
    {
     "data": {
      "application/vnd.jupyter.widget-view+json": {
       "model_id": "100abdd482864333a745641ccd59ad45",
       "version_major": 2,
       "version_minor": 0
      },
      "text/plain": [
       "  0%|          | 0/24 [00:00<?, ?it/s]"
      ]
     },
     "metadata": {},
     "output_type": "display_data"
    }
   ],
   "source": [
    "real_K_recall, fake_K_recall, real_V_recall, fake_V_recall = [], [], [], []\n",
    "\n",
    "for i1 in trange(num_layers):\n",
    "    sum_lens = sum([len(x[0]) for x in mem[f'transformer.h.0.mlp.c_fc']])\n",
    "    tmp1_pre = torch.topk(torch.cat([y for _, y in mem[f'transformer.h.{i1}.mlp.c_fc']])[:max_explored_tokens], \n",
    "                          k=5, dim=-1).indices\n",
    "    tmp1_pre_perm = torch.topk(\n",
    "        torch.cat([y for _, y in mem[f'transformer.h.{i1}.mlp.c_fc']])[torch.randperm(sum_lens)[:max_explored_tokens]], \n",
    "                               k=5, dim=-1).indices\n",
    "    tmp1_K, tmp1_V = K_heads[i1][tmp1_pre] @ E1, V_heads[i1][tmp1_pre] @ E1\n",
    "    tmp1_K_perm, tmp1_V_perm = K_heads[i1][tmp1_pre_perm] @ E1, V_heads[i1][tmp1_pre_perm] @ E1\n",
    "    tmp2 = emb_func(torch.cat([y for _, y in mem[f'transformer.h.{i1}']])[:max_explored_tokens])\n",
    "\n",
    "    fake_K_recall.append(np.mean(_batched_recall_metric(tmp1_K_perm, tmp2, k=k_, k2=k2, only_ascii=only_ascii)))\n",
    "    real_K_recall.append(np.mean(_batched_recall_metric(tmp1_K, tmp2, k=k_, k2=k2, only_ascii=only_ascii)))\n",
    "    fake_V_recall.append(np.mean(_batched_recall_metric(tmp1_V_perm, tmp2, k=k_, k2=k2, only_ascii=only_ascii)))\n",
    "    real_V_recall.append(np.mean(_batched_recall_metric(tmp1_V, tmp2, k=k_, k2=k2, only_ascii=only_ascii)))"
   ]
  },
  {
   "cell_type": "code",
   "execution_count": 13,
   "id": "9958d6b2-b5c3-42e7-b7f7-a15392932474",
   "metadata": {},
   "outputs": [
    {
     "data": {
      "application/vnd.jupyter.widget-view+json": {
       "model_id": "f741b4179e8e4646926f0e02667a0ee3",
       "version_major": 2,
       "version_minor": 0
      },
      "text/plain": [
       "  0%|          | 0/24 [00:00<?, ?it/s]"
      ]
     },
     "metadata": {},
     "output_type": "display_data"
    }
   ],
   "source": [
    "real_WV_recall, fake_WV_recall, real_WO_recall, fake_WO_recall = [], [], [], []\n",
    "\n",
    "for i1 in trange(num_layers):\n",
    "    tmp1_pre = torch.topk(torch.cat(\n",
    "        [x for x, _ in mem[f'intermediate-transformer.h.{i1}.attn.c_proj']])[:max_explored_tokens], k=5, dim=-1).indices\n",
    "    tmp1_x, tmp1_y = np.unravel_index(tmp1_pre.numpy(), (num_heads, head_size))\n",
    "    del tmp1_pre\n",
    "    tmp1_WV, tmp1_WO = W_V_heads[i1, tmp1_x, :, tmp1_y] @ E1, W_O_heads[i1, tmp1_x, tmp1_y] @ E1\n",
    "    tmp1 = tmp1_WV\n",
    "    tmp2 = emb_func(torch.cat([y for _, y in mem[f'transformer.h.{i1}']])[:max_explored_tokens])\n",
    "    \n",
    "    fake_WV_recall.append(np.mean(_batched_recall_metric(tmp1_WV[torch.randperm(len(tmp1_WV))], tmp2, k=k_, k2=k2,\n",
    "                                                         only_ascii=only_ascii)))\n",
    "    real_WV_recall.append(np.mean(_batched_recall_metric(tmp1_WV, tmp2, k=k_, k2=k2, only_ascii=only_ascii)))\n",
    "    fake_WO_recall.append(np.mean(_batched_recall_metric(tmp1_WO[torch.randperm(len(tmp1_WO))], tmp2, k=k_, k2=k2,\n",
    "                                                         only_ascii=only_ascii)))\n",
    "    real_WO_recall.append(np.mean(_batched_recall_metric(tmp1_WO, tmp2, k=k_, k2=k2, only_ascii=only_ascii)))"
   ]
  },
  {
   "cell_type": "code",
   "execution_count": 23,
   "id": "602ac99c-0592-4dad-b664-6f131b68f4ae",
   "metadata": {},
   "outputs": [
    {
     "data": {
      "image/png": "[encoded data removed]",
      "text/plain": [
       "<Figure size 1080x648 with 4 Axes>"
      ]
     },
     "metadata": {
      "needs_background": "light"
     },
     "output_type": "display_data"
    }
   ],
   "source": [
    "_plot_comparison([(real_K_recall, fake_K_recall, \"FF Keys\"),\n",
    "                  (real_V_recall, fake_V_recall, \"FF Values\"),\n",
    "                  (real_WV_recall, fake_WV_recall, \"$W_V$\"),\n",
    "                  (real_WO_recall, fake_WO_recall, \"$W_O$\")\n",
    "                 ])"
   ]
  },
  {
   "cell_type": "markdown",
   "id": "2d1d5225-a132-4872-8444-06b0d18be353",
   "metadata": {},
   "source": [
    "### Related Parameter Pairs are Connected"
   ]
  },
  {
   "cell_type": "code",
   "execution_count": 15,
   "id": "487c6e97-fc17-4a8f-8df5-858fbad8342a",
   "metadata": {},
   "outputs": [],
   "source": [
    "intersections_dict = {}"
   ]
  },
  {
   "cell_type": "code",
   "execution_count": 16,
   "id": "7fc4de1d-24c1-45fa-b4b0-59832862f08c",
   "metadata": {
    "tags": []
   },
   "outputs": [
    {
     "data": {
      "application/vnd.jupyter.widget-view+json": {
       "model_id": "e9a9deba7da5494d8a9a0a8da597d608",
       "version_major": 2,
       "version_minor": 0
      },
      "text/plain": [
       "  0%|          | 0/24 [00:00<?, ?it/s]"
      ]
     },
     "metadata": {},
     "output_type": "display_data"
    }
   ],
   "source": [
    "intersections_dict['KV'] = np.array([_batched_sim(abs(K_heads[l] @ E1), abs(V_heads[l] @ E1)) for l in trange(num_layers)])"
   ]
  },
  {
   "cell_type": "code",
   "execution_count": 17,
   "id": "211cb622-d5c6-47f6-bc7f-279fe14082e3",
   "metadata": {
    "tags": []
   },
   "outputs": [
    {
     "data": {
      "application/vnd.jupyter.widget-view+json": {
       "model_id": "bc77075b9ddf414082dc505666436c13",
       "version_major": 2,
       "version_minor": 0
      },
      "text/plain": [
       "  0%|          | 0/24 [00:00<?, ?it/s]"
      ]
     },
     "metadata": {},
     "output_type": "display_data"
    }
   ],
   "source": [
    "intersections_dict['KV_shuffled'] = np.array([_batched_sim(abs(K_heads[l][torch.randperm(K_heads.shape[1])] @ E1), \n",
    "                                                            abs(V_heads[l] @ E1)) for l in trange(num_layers)])"
   ]
  },
  {
   "cell_type": "code",
   "execution_count": 18,
   "id": "57ad8bc2-e05e-430d-a9b5-c00ce46382d7",
   "metadata": {},
   "outputs": [
    {
     "data": {
      "application/vnd.jupyter.widget-view+json": {
       "model_id": "8154bef9e26d42499917d69a71c47540",
       "version_major": 2,
       "version_minor": 0
      },
      "text/plain": [
       "  0%|          | 0/24 [00:00<?, ?it/s]"
      ]
     },
     "metadata": {},
     "output_type": "display_data"
    }
   ],
   "source": [
    "intersections_dict['W_VO'] = np.array([_batched_sim(abs(W_V_heads[l].permute(0, 2, 1).flatten(0, 1) @ E1), \n",
    "                                                                  abs(W_O_heads[l].flatten(0, 1) @ E1)) \n",
    "                                           for l in trange(num_layers)])"
   ]
  },
  {
   "cell_type": "code",
   "execution_count": 19,
   "id": "1b3d0d11-1f08-417e-88c3-53a240f5379c",
   "metadata": {},
   "outputs": [
    {
     "data": {
      "application/vnd.jupyter.widget-view+json": {
       "model_id": "1d07d1974ab848edbb4c6baf620d9a25",
       "version_major": 2,
       "version_minor": 0
      },
      "text/plain": [
       "  0%|          | 0/24 [00:00<?, ?it/s]"
      ]
     },
     "metadata": {},
     "output_type": "display_data"
    }
   ],
   "source": [
    "intersections_dict['W_VO_shuffled'] = np.array([_batched_sim(abs(W_V_heads[l].permute(0, 2, 1).flatten(0, 1) @ E1),\n",
    "                                                             abs(W_O_heads[l].flatten(0, 1)[torch.randperm(W_O_heads.size(-1))] @ E1)) \n",
    "                                                    for l in trange(num_layers)])"
   ]
  },
  {
   "cell_type": "code",
   "execution_count": 20,
   "id": "91550341-9fe9-4c61-8f27-d5e6017ce1c5",
   "metadata": {},
   "outputs": [
    {
     "data": {
      "image/png": "[encoded data removed]",
      "text/plain": [
       "<Figure size 864x288 with 2 Axes>"
      ]
     },
     "metadata": {
      "needs_background": "light"
     },
     "output_type": "display_data"
    }
   ],
   "source": [
    "plt.figure(figsize=(12, 4))\n",
    "for i, (title, dict_key) in enumerate([('$K$ and $V$', 'KV'),\n",
    "                                      ('$W_V$ and $W_O$', 'W_VO'),\n",
    "                                      ]):\n",
    "    plt.subplot(1, 2, i+1)\n",
    "    plt.title(title)\n",
    "    sns.barplot(x='x', y='y', hue='hue', \n",
    "                data={'x': [*np.arange(num_layers), *np.arange(num_layers)],\n",
    "                      'y': [*np.mean(intersections_dict[dict_key], axis=-1), \n",
    "                            *np.mean(intersections_dict[f'{dict_key}_shuffled'], axis=-1)],\n",
    "                      'hue': (['aligned'] * num_layers) + (['shuffled'] * num_layers)\n",
    "                });"
   ]
  },
  {
   "cell_type": "markdown",
   "id": "8f1e7fe5-c7f2-41ee-9f4e-0becde6b7f9f",
   "metadata": {},
   "source": [
    "### Model Logits (*Last* Hidden States) and Parameters"
   ]
  },
  {
   "cell_type": "code",
   "execution_count": 15,
   "id": "1b605908-6a52-4c49-88ec-202f8fd45a30",
   "metadata": {},
   "outputs": [
    {
     "data": {
      "application/vnd.jupyter.widget-view+json": {
       "model_id": "fa6d6a7525a4422bb4338842e4ac74cc",
       "version_major": 2,
       "version_minor": 0
      },
      "text/plain": [
       "  0%|          | 0/24 [00:00<?, ?it/s]"
      ]
     },
     "metadata": {},
     "output_type": "display_data"
    }
   ],
   "source": [
    "real_K_recall2, fake_K_recall2, real_V_recall2, fake_V_recall2 = [], [], [], []\n",
    "\n",
    "for i1 in trange(num_layers):\n",
    "    sum_lens = sum([len(x[0]) for x in mem[f'transformer.h.0.mlp.c_fc']])\n",
    "    tmp1_pre = torch.topk(torch.cat([y for _, y in mem[f'transformer.h.{i1}.mlp.c_fc']])[:max_explored_tokens], \n",
    "                          k=5, dim=-1).indices\n",
    "    tmp1_pre_perm = torch.topk(\n",
    "        torch.cat([y for _, y in mem[f'transformer.h.{i1}.mlp.c_fc']])[torch.randperm(sum_lens)[:max_explored_tokens]], \n",
    "                               k=5, dim=-1).indices\n",
    "    tmp1_K, tmp1_V = K_heads[i1][tmp1_pre] @ E1, V_heads[i1][tmp1_pre] @ E1\n",
    "    tmp1_K_perm, tmp1_V_perm = K_heads[i1][tmp1_pre_perm] @ E1, V_heads[i1][tmp1_pre_perm] @ E1\n",
    "    tmp2 = emb_func(torch.cat([y for _, y in mem[f'transformer.h.{num_layers-1}']])[:max_explored_tokens])\n",
    "\n",
    "    fake_K_recall2.append(np.mean(_batched_recall_metric(tmp1_K_perm, tmp2, k=k_, k2=k2, only_ascii=only_ascii)))\n",
    "    real_K_recall2.append(np.mean(_batched_recall_metric(tmp1_K, tmp2, k=k_, k2=k2, only_ascii=only_ascii)))\n",
    "    fake_V_recall2.append(np.mean(_batched_recall_metric(tmp1_V_perm, tmp2, k=k_, k2=k2, only_ascii=only_ascii)))\n",
    "    real_V_recall2.append(np.mean(_batched_recall_metric(tmp1_V, tmp2, k=k_, k2=k2, only_ascii=only_ascii)))"
   ]
  },
  {
   "cell_type": "code",
   "execution_count": 16,
   "id": "a2ecfd6c-bc4d-497b-aaf0-9437976660bd",
   "metadata": {},
   "outputs": [
    {
     "data": {
      "application/vnd.jupyter.widget-view+json": {
       "model_id": "a5a6d0c1ed02414cb3e569c7ac9993fe",
       "version_major": 2,
       "version_minor": 0
      },
      "text/plain": [
       "  0%|          | 0/24 [00:00<?, ?it/s]"
      ]
     },
     "metadata": {},
     "output_type": "display_data"
    }
   ],
   "source": [
    "real_WV_recall2, fake_WV_recall2, real_WO_recall2, fake_WO_recall2 = [], [], [], []\n",
    "\n",
    "for i1 in trange(num_layers):\n",
    "    tmp1_pre = torch.topk(torch.cat(\n",
    "        [x for x, _ in mem[f'intermediate-transformer.h.{i1}.attn.c_proj']])[:max_explored_tokens], \n",
    "                          k=5, dim=-1).indices\n",
    "    tmp1_x, tmp1_y = np.unravel_index(tmp1_pre.numpy(), (num_heads, head_size))\n",
    "    del tmp1_pre\n",
    "    tmp1_WV, tmp1_WO = W_V_heads[i1, tmp1_x, :, tmp1_y] @ E1, W_O_heads[i1, tmp1_x, tmp1_y] @ E1\n",
    "    tmp1 = tmp1_WV\n",
    "    tmp2 = emb_func(torch.cat([y for _, y in mem[f'transformer.h.{num_layers-1}']])[:max_explored_tokens])\n",
    "    fake_WV_recall2.append(np.mean(_batched_recall_metric(tmp1_WV[torch.randperm(len(tmp1_WV))], tmp2, \n",
    "                                                          k=k_, k2=k2, only_ascii=only_ascii)))\n",
    "    real_WV_recall2.append(np.mean(_batched_recall_metric(tmp1_WV, tmp2, k=k_, k2=k2, only_ascii=only_ascii)))\n",
    "    fake_WO_recall2.append(np.mean(_batched_recall_metric(tmp1_WO[torch.randperm(len(tmp1_WO))], tmp2, \n",
    "                                                          k=k_, k2=k2, only_ascii=only_ascii)))\n",
    "    real_WO_recall2.append(np.mean(_batched_recall_metric(tmp1_WO, tmp2, k=k_, k2=k2, only_ascii=only_ascii)))"
   ]
  },
  {
   "cell_type": "code",
   "execution_count": 24,
   "id": "5165346e-cbcd-4737-9062-85debfc1cdb4",
   "metadata": {},
   "outputs": [
    {
     "data": {
      "image/png": "[encoded data removed]",
      "text/plain": [
       "<Figure size 1080x648 with 4 Axes>"
      ]
     },
     "metadata": {
      "needs_background": "light"
     },
     "output_type": "display_data"
    }
   ],
   "source": [
    "_plot_comparison([(real_K_recall2, fake_K_recall2, \"FF Keys\"),\n",
    "                  (real_V_recall2, fake_V_recall2, \"FF Values\"),\n",
    "                  (real_WV_recall2, fake_WV_recall2, \"$W_V$\"),\n",
    "                  (real_WO_recall2, fake_WO_recall2, \"$W_O$\")\n",
    "                 ])"
   ]
  },
  {
   "cell_type": "markdown",
   "id": "f4e3a9b5-56f1-4bb7-9cf2-75b48d6e1a7c",
   "metadata": {},
   "source": [
    "#### Remove Trivial Tokens"
   ]
  },
  {
   "cell_type": "code",
   "execution_count": 18,
   "id": "6ba83f97-443c-4d8c-b116-4507bd176cc7",
   "metadata": {},
   "outputs": [
    {
     "data": {
      "application/vnd.jupyter.widget-view+json": {
       "model_id": "17fd94b9cc534ad7968ffe3fc1306842",
       "version_major": 2,
       "version_minor": 0
      },
      "text/plain": [
       "  0%|          | 0/24 [00:00<?, ?it/s]"
      ]
     },
     "metadata": {},
     "output_type": "display_data"
    }
   ],
   "source": [
    "real_K_recall3, fake_K_recall3, real_V_recall3, fake_V_recall3 = [], [], [], []\n",
    "sum_lens = sum([len(x[0]) for x in mem[f'transformer.h.0.mlp.c_fc']])\n",
    "\n",
    "for i1 in trange(num_layers):\n",
    "    sample_real, sample_fake = (torch.randperm(sum_lens)[:max_explored_tokens],\n",
    "                               torch.randperm(sum_lens)[:max_explored_tokens])\n",
    "    tmp1_pre = torch.topk(torch.cat(\n",
    "        [y for _, y in mem[f'transformer.h.{i1}.mlp.c_fc']])[sample_real], k=5, dim=-1).indices\n",
    "    tmp1_pre_perm = torch.topk(\n",
    "        torch.cat([y for _, y in mem[f'transformer.h.{i1}.mlp.c_fc']])[sample_fake], k=5, dim=-1).indices\n",
    "    tmp1_K, tmp1_V = K_heads[i1][tmp1_pre] @ E1, V_heads[i1][tmp1_pre] @ E1\n",
    "    tmp1_K_perm, tmp1_V_perm = K_heads[i1][tmp1_pre_perm] @ E1, V_heads[i1][tmp1_pre_perm] @ E1\n",
    "    tmp2 = emb_func(torch.cat([y for _, y in mem[f'transformer.h.{num_layers - 1}']])[sample_real]) #  @ emb\n",
    "\n",
    "    good_pos = ~torch.isin(tmp2.argmax(-1), torch.LongTensor([13, 262, 257, 318, 290, 286, 11, 338, 284]))\n",
    "    fake_K_recall3.append(np.mean(_batched_recall_metric(tmp1_K_perm[good_pos], tmp2[good_pos], k=k_, k2=k2, only_ascii=only_ascii)))\n",
    "    real_K_recall3.append(np.mean(_batched_recall_metric(tmp1_K[good_pos], tmp2[good_pos], k=k_, k2=k2, only_ascii=only_ascii)))\n",
    "    fake_V_recall3.append(np.mean(_batched_recall_metric(tmp1_V_perm[good_pos], tmp2[good_pos], k=k_, k2=k2, only_ascii=only_ascii)))\n",
    "    real_V_recall3.append(np.mean(_batched_recall_metric(tmp1_V[good_pos], tmp2[good_pos], k=k_, k2=k2, only_ascii=only_ascii)))"
   ]
  },
  {
   "cell_type": "code",
   "execution_count": 19,
   "id": "d7f790b0-5f73-41e7-8516-b2f797c51d2e",
   "metadata": {},
   "outputs": [
    {
     "data": {
      "application/vnd.jupyter.widget-view+json": {
       "model_id": "0f9bb10eea454430b38ef06605d684b1",
       "version_major": 2,
       "version_minor": 0
      },
      "text/plain": [
       "  0%|          | 0/24 [00:00<?, ?it/s]"
      ]
     },
     "metadata": {},
     "output_type": "display_data"
    }
   ],
   "source": [
    "real_WV_recall3, fake_WV_recall3, real_WO_recall3, fake_WO_recall3 = [], [], [], []\n",
    "sum_lens = sum([len(x[0]) for x in mem[f'transformer.h.0.mlp.c_fc']])\n",
    "\n",
    "for i1 in trange(num_layers):\n",
    "    sample_real, sample_fake = (torch.randperm(sum_lens)[:max_explored_tokens],\n",
    "                               torch.randperm(sum_lens)[:max_explored_tokens])\n",
    "    \n",
    "    tmp1_pre_real = torch.topk(torch.cat([y for _, y in mem[f'intermediate-transformer.h.{i1}.attn.c_proj']])[sample_real], \n",
    "                               k=5, dim=-1).indices\n",
    "    tmp1_pre_fake = torch.topk(torch.cat([y for _, y in mem[f'intermediate-transformer.h.{i1}.attn.c_proj']])[sample_fake], \n",
    "                               k=5, dim=-1).indices\n",
    "    tmp1_x_real, tmp1_y_real = np.unravel_index(tmp1_pre_real.numpy(), (num_heads, head_size))\n",
    "    tmp1_x_fake, tmp1_y_fake = np.unravel_index(tmp1_pre_fake.numpy(), (num_heads, head_size))\n",
    "    del tmp1_pre_real, tmp1_pre_fake\n",
    "    \n",
    "    tmp1_WV, tmp1_WO = (W_V_heads[i1, tmp1_x_real, :, tmp1_y_real].cpu() @ E1.cpu(), \n",
    "                        W_O_heads[i1, tmp1_x_real, tmp1_y_real].cpu() @ E1.cpu())\n",
    "    tmp1_WV_perm, tmp1_WO_perm = (W_V_heads[i1, tmp1_x_fake, :, tmp1_y_fake] @ E1, \n",
    "                                  W_O_heads[i1, tmp1_x_fake, tmp1_y_fake] @ E1)\n",
    "\n",
    "    tmp2 = emb_func(torch.cat([y for _, y in mem[f'transformer.h.{num_layers-1}']])[sample_real])\n",
    "    good_pos = ~torch.isin(tmp2.argmax(-1), torch.LongTensor([13, 262, 257, 318, 290, 286, 11, 338, 284]))\n",
    "    \n",
    "    fake_WV_recall3.append(np.mean(_batched_recall_metric(tmp1_WV_perm[good_pos], tmp2[good_pos], k=k_, k2=k2, only_ascii=only_ascii)))\n",
    "    real_WV_recall3.append(np.mean(_batched_recall_metric(tmp1_WV[good_pos], tmp2[good_pos], k=k_, k2=k2, only_ascii=only_ascii)))\n",
    "    fake_WO_recall3.append(np.mean(_batched_recall_metric(tmp1_WO_perm[good_pos], tmp2[good_pos], k=k_, k2=k2, only_ascii=only_ascii)))\n",
    "    real_WO_recall3.append(np.mean(_batched_recall_metric(tmp1_WO[good_pos], tmp2[good_pos], k=k_, k2=k2, only_ascii=only_ascii)))"
   ]
  },
  {
   "cell_type": "code",
   "execution_count": 25,
   "id": "b5f5cd2c-d677-4e62-8449-a89f781038a3",
   "metadata": {},
   "outputs": [
    {
     "data": {
      "image/png": "[encoded data removed]",
      "text/plain": [
       "<Figure size 1080x648 with 4 Axes>"
      ]
     },
     "metadata": {
      "needs_background": "light"
     },
     "output_type": "display_data"
    }
   ],
   "source": [
    "_plot_comparison([(real_K_recall3, fake_K_recall3, \"FF Keys\"),\n",
    "                  (real_V_recall3, fake_V_recall3, \"FF Values\"),\n",
    "                  (real_WV_recall3, fake_WV_recall3, \"$W_V$\"),\n",
    "                  (real_WO_recall3, fake_WO_recall3, \"$W_O$\")\n",
    "                 ])"
   ]
  },
  {
   "cell_type": "markdown",
   "id": "d7fb4cc7-16c6-4fdd-90ce-d9d257c5a7ab",
   "metadata": {},
   "source": [
    "## Bonus: $E_1, E_2$ Variant Tests"
   ]
  },
  {
   "cell_type": "code",
   "execution_count": 27,
   "id": "8fded5fb-41cd-48f3-a9f9-793819bc0dd7",
   "metadata": {},
   "outputs": [],
   "source": [
    "from utils import keep_k"
   ]
  },
  {
   "cell_type": "code",
   "execution_count": 34,
   "id": "c9330bd1-c20e-4dc7-ab85-7eca9e62e862",
   "metadata": {},
   "outputs": [],
   "source": [
    "base_vector_emb = emb.mean(-1, keepdims=True)\n",
    "emb_centered = emb - base_vector_emb"
   ]
  },
  {
   "cell_type": "code",
   "execution_count": 75,
   "id": "c48e6756-8760-403a-bf19-a4c0bd2e10c0",
   "metadata": {},
   "outputs": [],
   "source": [
    "E1 = emb\n",
    "E2 = emb_centered.T\n",
    "E = emb"
   ]
  },
  {
   "cell_type": "code",
   "execution_count": 76,
   "id": "69f84d63-f6ca-42b8-9572-8f9c55bf09ee",
   "metadata": {},
   "outputs": [],
   "source": [
    "tmp = torch.randn(300, 1024)"
   ]
  },
  {
   "cell_type": "markdown",
   "id": "60901b3b-42aa-4845-9632-057ff1207b2e",
   "metadata": {},
   "source": [
    "**Similarity with $E$**"
   ]
  },
  {
   "cell_type": "code",
   "execution_count": 77,
   "id": "ffc7b11d-176f-4f14-ac08-53a1421c6d66",
   "metadata": {},
   "outputs": [
    {
     "name": "stdout",
     "output_type": "stream",
     "text": [
      "E1: tensor(1.)\n",
      "E2: tensor(0.8087)\n"
     ]
    }
   ],
   "source": [
    "print(\"E1:\", F.cosine_similarity(tmp @ E1, tmp @ E, dim=0).mean())\n",
    "print(\"E2:\", F.cosine_similarity(tmp @ E2.T, tmp @ E, dim=0).mean())"
   ]
  },
  {
   "cell_type": "markdown",
   "id": "e3086805-492b-413c-85c0-878c7d1fa839",
   "metadata": {},
   "source": [
    "**Similarity with E (top tokens)**"
   ]
  },
  {
   "cell_type": "code",
   "execution_count": 78,
   "id": "044f7b5e-99c0-414d-84c5-9152de039948",
   "metadata": {},
   "outputs": [
    {
     "name": "stdout",
     "output_type": "stream",
     "text": [
      "E1\n",
      "======\n",
      "6000 500\n",
      "1.0\n",
      "500 6000\n",
      "1.0\n",
      "\n",
      "\n",
      "E2\n",
      "======\n",
      "6000 500\n",
      "1.0\n",
      "500 6000\n",
      "0.9\n",
      "\n",
      "\n"
     ]
    }
   ],
   "source": [
    "k1, k2 = 6000, 500\n",
    "\n",
    "for j, E_j in enumerate([E1, E2.T]):\n",
    "    print(f\"E{1+j}\")\n",
    "    print(\"======\")\n",
    "    for i in range(2):\n",
    "        print(k1, k2)\n",
    "        print(np.round((np.sqrt(max(k1, k2) / min(k1, k2)) * \n",
    "               F.cosine_similarity(keep_k(tmp @ E_j, k=k1).bool().float(), keep_k(tmp @ E, k=k2).bool().float()))\n",
    "              .mean().item(), 2))\n",
    "        \n",
    "        # swap k1, k2\n",
    "        k1, k2 = k2, k1\n",
    "    print(\"\\n\")"
   ]
  },
  {
   "cell_type": "markdown",
   "id": "dccb6f24-5e98-4cfd-af6c-66c3edbd567a",
   "metadata": {},
   "source": [
    "**Reconstruction**"
   ]
  },
  {
   "cell_type": "code",
   "execution_count": 82,
   "id": "2904d5b4-1630-402c-8d5e-fa67a0ee7179",
   "metadata": {},
   "outputs": [],
   "source": [
    "k1 = 10_000"
   ]
  },
  {
   "cell_type": "code",
   "execution_count": 83,
   "id": "265f1148-14c7-4d3c-8e25-5b1d7e482464",
   "metadata": {},
   "outputs": [
    {
     "data": {
      "text/plain": [
       "tensor(0.8975)"
      ]
     },
     "execution_count": 83,
     "metadata": {},
     "output_type": "execute_result"
    }
   ],
   "source": [
    "F.cosine_similarity((tmp @ tmp.T).ravel(),\n",
    "                    (keep_k(tmp @ E1, k=k1) @ keep_k(tmp @ E2.T, k=k1).T).ravel(), dim=0)"
   ]
  }
 ],
 "metadata": {
  "kernelspec": {
   "display_name": "Python 3",
   "language": "python",
   "name": "python3"
  },
  "language_info": {
   "codemirror_mode": {
    "name": "ipython",
    "version": 3
   },
   "file_extension": ".py",
   "mimetype": "text/x-python",
   "name": "python",
   "nbconvert_exporter": "python",
   "pygments_lexer": "ipython3",
   "version": "3.8.13"
  }
 },
 "nbformat": 4,
 "nbformat_minor": 5
}
