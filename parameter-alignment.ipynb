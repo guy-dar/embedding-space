{
 "cells": [
  {
   "cell_type": "markdown",
   "id": "7ff967e6-9737-410f-9ade-52af976bdbc9",
   "metadata": {},
   "source": [
    "## Init"
   ]
  },
  {
   "cell_type": "code",
   "execution_count": 27,
   "id": "abadd5e8-88d7-4b2c-b7fa-70f0bc074dfe",
   "metadata": {},
   "outputs": [],
   "source": [
    "from utils import get_multiberts_tokenizer\n",
    "import tensorflow as tf\n",
    "import tensorflow.keras.layers as tf_layers\n",
    "from tqdm.auto import tqdm\n",
    "import numpy as np\n",
    "import torch\n",
    "from torch import nn\n",
    "import torch.nn.functional as F\n",
    "import matplotlib.pyplot as plt\n",
    "import seaborn as sns\n",
    "from scipy.optimize import linear_sum_assignment"
   ]
  },
  {
   "cell_type": "code",
   "execution_count": 7,
   "id": "db9f88ea-9d42-4fca-8f27-d8976bb334b5",
   "metadata": {},
   "outputs": [],
   "source": [
    "num_layers = 12"
   ]
  },
  {
   "cell_type": "code",
   "execution_count": 25,
   "id": "d1645359-e748-47a7-a741-919e65178fc2",
   "metadata": {},
   "outputs": [],
   "source": [
    "def corr_coef(X, Y):\n",
    "    muX, muY = X.mean(-1, keepdims=True), Y.mean(-1, keepdims=True) \n",
    "    X, Y = map(lambda A, mu: F.normalize(A - mu, dim=-1), [X, Y], [muX, muY])\n",
    "    return X @ Y.T"
   ]
  },
  {
   "cell_type": "code",
   "execution_count": 8,
   "id": "5a05ee97-e055-44e9-9f0c-f432d3415496",
   "metadata": {
    "tags": []
   },
   "outputs": [],
   "source": [
    "def kernelized_corr_coef(x, y, K1, K2, K12, emb_mean1, emb_mean2, n):\n",
    "    mu1, mu2 = x @ emb_mean1, y @ emb_mean2\n",
    "    mu12 = torch.outer(mu1, mu2)\n",
    "    x_norm, y_norm = map(lambda x, K, mu: (1/n * (x @ K) * x).sum(dim=-1) - mu**2, [x, y], [K1, K2], [mu1, mu2])\n",
    "    return (1 / n * x @ K12 @ y.T - mu12) / torch.sqrt(torch.outer(x_norm, y_norm))"
   ]
  },
  {
   "cell_type": "code",
   "execution_count": 9,
   "id": "e7c24c6e-a6af-43c5-907b-39536976b67f",
   "metadata": {},
   "outputs": [],
   "source": [
    "tokenizer = get_multiberts_tokenizer()"
   ]
  },
  {
   "cell_type": "markdown",
   "id": "bf557219-c61c-43a8-a77c-a259e4090e40",
   "metadata": {},
   "source": [
    "## Extract Parameters"
   ]
  },
  {
   "cell_type": "code",
   "execution_count": 10,
   "id": "d79efb45-b296-4983-8f80-9c49bfbc5aed",
   "metadata": {},
   "outputs": [
    {
     "name": "stdout",
     "output_type": "stream",
     "text": [
      "['multiberts/models/seed_0/bert.ckpt', 'multiberts/models/seed_1/bert.ckpt']\n"
     ]
    },
    {
     "data": {
      "application/vnd.jupyter.widget-view+json": {
       "model_id": "92ee3350ae4240699dcd63b4b3490840",
       "version_major": 2,
       "version_minor": 0
      },
      "text/plain": [
       "  0%|          | 0/2 [00:00<?, ?it/s]"
      ]
     },
     "metadata": {},
     "output_type": "display_data"
    }
   ],
   "source": [
    "multi_V = []\n",
    "multi_E = []\n",
    "multi_K = []\n",
    "multi_WK = []\n",
    "multi_WQ = []\n",
    "multi_WV = []\n",
    "multi_WO = []\n",
    "\n",
    "model_paths = [f\"multiberts/models/seed_{i}/bert.ckpt\" for i in range(2)]\n",
    "print(model_paths)\n",
    "\n",
    "for path in tqdm(model_paths):\n",
    "    multi_K.append(torch.cat([torch.from_numpy(tf.train.load_variable(path, \n",
    "                                            f'bert/encoder/layer_{j}/intermediate/dense/kernel')).T\n",
    "                                      for j in range(num_layers)]))\n",
    "    multi_V.append(torch.cat([torch.from_numpy(tf.train.load_variable(path, \n",
    "                                            f'bert/encoder/layer_{j}/output/dense/kernel'))\n",
    "                                        for j in range(num_layers)]))    \n",
    "    multi_WV.append(torch.cat([torch.from_numpy(tf.train.load_variable(path, \n",
    "                                            f'bert/encoder/layer_{j}/attention/self/value/kernel')).T\n",
    "                                         for j in range(num_layers)]))\n",
    "    multi_WK.append(torch.cat([torch.from_numpy(tf.train.load_variable(path, \n",
    "                                            f'bert/encoder/layer_{j}/attention/self/key/kernel')).T\n",
    "                                         for j in range(num_layers)]))\n",
    "    multi_WQ.append(torch.cat([torch.from_numpy(tf.train.load_variable(path, \n",
    "                                            f'bert/encoder/layer_{j}/attention/self/query/kernel')).T\n",
    "                                         for j in range(num_layers)]))\n",
    "    multi_WO.append(torch.cat([torch.from_numpy(tf.train.load_variable(path, \n",
    "                                            f'bert/encoder/layer_{j}/attention/output/dense/kernel'))\n",
    "                                         for j in range(num_layers)]))\n",
    "    multi_E.append(torch.from_numpy(tf.train.load_variable(path, \"bert/embeddings/word_embeddings\")).T)"
   ]
  },
  {
   "cell_type": "code",
   "execution_count": 11,
   "id": "2b89c870-5398-44bf-8b4a-e68e70bf78d2",
   "metadata": {},
   "outputs": [],
   "source": [
    "emb1, emb2 = multi_E\n",
    "# emb1, emb2 = map(lambda E: E  - E.mean(0), [emb1, emb2])"
   ]
  },
  {
   "cell_type": "code",
   "execution_count": 12,
   "id": "d3f6fee4-5c60-48d9-914b-f13aa2da35ef",
   "metadata": {},
   "outputs": [],
   "source": [
    "K1, K2 = multi_K\n",
    "V1, V2 = multi_V\n",
    "WK1, WK2 = multi_WK\n",
    "WQ1, WQ2 = multi_WQ\n",
    "WV1, WV2 = multi_WV\n",
    "WO1, WO2 = multi_WO"
   ]
  },
  {
   "cell_type": "markdown",
   "id": "943f5e03-7e3d-49c3-9263-3772e2c1f857",
   "metadata": {},
   "source": [
    "## Parameter Alignment"
   ]
  },
  {
   "cell_type": "code",
   "execution_count": 13,
   "id": "597a3041-d46d-44f1-9d51-de75ad270268",
   "metadata": {},
   "outputs": [],
   "source": [
    "device = 'cpu'"
   ]
  },
  {
   "cell_type": "code",
   "execution_count": 14,
   "id": "ff7a3550-ef64-432c-b982-754b8ee40821",
   "metadata": {},
   "outputs": [],
   "source": [
    "kernel11, kernel22, kernel12 = map(lambda emb1, emb2: (emb1 @ emb2.T).to(device), \n",
    "                                   [emb1, emb2, emb1], [emb1, emb2, emb2])\n",
    "emb_mean1, emb_mean2 = map(lambda emb: torch.mean(emb, dim=-1), (emb1, emb2))"
   ]
  },
  {
   "cell_type": "code",
   "execution_count": 15,
   "id": "d5b17147-e7e7-4688-9f1e-2a2f08ea883d",
   "metadata": {},
   "outputs": [],
   "source": [
    "param1, param2 = WV1, WV2"
   ]
  },
  {
   "cell_type": "code",
   "execution_count": 16,
   "id": "10123cb2-a43d-4580-8858-1c11a72a2bf4",
   "metadata": {},
   "outputs": [],
   "source": [
    "S = kernelized_corr_coef(param1.to(device), param2.to(device), \n",
    "               kernel11.to(device), kernel22.to(device), kernel12.to(device), \n",
    "               emb_mean1.to(device), emb_mean2.to(device), n=len(tokenizer))"
   ]
  },
  {
   "cell_type": "code",
   "execution_count": 17,
   "id": "4f04c876-8594-478c-b5ee-1e85eacaf73f",
   "metadata": {},
   "outputs": [],
   "source": [
    "layer_size = param1.shape[0] // num_layers\n",
    "S_agg = S.view(num_layers, layer_size, num_layers, layer_size).abs().mean([-1, -3]).cpu().numpy()"
   ]
  },
  {
   "cell_type": "markdown",
   "id": "3bc155a6-1a57-4a03-a48b-ed304749c6f0",
   "metadata": {},
   "source": [
    "**Without Hungarian Algorithm**"
   ]
  },
  {
   "cell_type": "code",
   "execution_count": 18,
   "id": "a55b7c61-2d2b-41c7-a463-65acca46b2fd",
   "metadata": {},
   "outputs": [
    {
     "data": {
      "text/plain": [
       "<AxesSubplot:>"
      ]
     },
     "execution_count": 18,
     "metadata": {},
     "output_type": "execute_result"
    },
    {
     "data": {
      "image/png": "[encoded data removed]",
      "text/plain": [
       "<Figure size 432x288 with 2 Axes>"
      ]
     },
     "metadata": {
      "needs_background": "light"
     },
     "output_type": "display_data"
    }
   ],
   "source": [
    "sns.heatmap(S_agg)"
   ]
  },
  {
   "cell_type": "markdown",
   "id": "38de0e8e-6b86-4297-b3df-762427912835",
   "metadata": {},
   "source": [
    "**Hungarian Algorithm Matching**"
   ]
  },
  {
   "cell_type": "code",
   "execution_count": 19,
   "id": "98b41fc7-81e6-4ca0-9fda-850d61d440b7",
   "metadata": {},
   "outputs": [],
   "source": [
    "_, edges = linear_sum_assignment(-S_agg)"
   ]
  },
  {
   "cell_type": "code",
   "execution_count": 20,
   "id": "34db4842-b3eb-49a4-9de0-753a50fa05a9",
   "metadata": {},
   "outputs": [
    {
     "data": {
      "text/plain": [
       "<AxesSubplot:>"
      ]
     },
     "execution_count": 20,
     "metadata": {},
     "output_type": "execute_result"
    },
    {
     "data": {
      "image/png": "[encoded data removed]",
      "text/plain": [
       "<Figure size 432x288 with 2 Axes>"
      ]
     },
     "metadata": {
      "needs_background": "light"
     },
     "output_type": "display_data"
    }
   ],
   "source": [
    "tmp_plot = torch.zeros(num_layers, num_layers)\n",
    "tmp_plot[torch.arange(num_layers), edges] = 1\n",
    "sns.heatmap(tmp_plot)"
   ]
  },
  {
   "cell_type": "markdown",
   "id": "57f1a490-e007-4a8c-a6f9-c6dee9862674",
   "metadata": {},
   "source": [
    "### Plot All"
   ]
  },
  {
   "cell_type": "code",
   "execution_count": 21,
   "id": "f65b94d9-8225-4d37-b2e5-51b0e8685c83",
   "metadata": {},
   "outputs": [
    {
     "data": {
      "application/vnd.jupyter.widget-view+json": {
       "model_id": "165b8d0d0fb84403835ace49a09cc578",
       "version_major": 2,
       "version_minor": 0
      },
      "text/plain": [
       "  0%|          | 0/6 [00:00<?, ?it/s]"
      ]
     },
     "metadata": {},
     "output_type": "display_data"
    },
    {
     "data": {
      "image/png": "[encoded data removed]",
      "text/plain": [
       "<Figure size 1080x612 with 6 Axes>"
      ]
     },
     "metadata": {},
     "output_type": "display_data"
    }
   ],
   "source": [
    "plt.figure(figsize=(15, 8.5))\n",
    "for i, (title, param1, param2) in enumerate(tqdm([(\"$K$\", K1, K2), (\"$V$\", V1, V2), (\"$W_K$\", WK1, WK2), \n",
    "                                                    (\"$W_Q$\", WQ1, WQ2), (\"$W_V$\", WV1, WV2), (\"$W_O$\", WO1, WO2)])):\n",
    "    S = kernelized_corr_coef(param1.to(device), param2.to(device), \n",
    "                           kernel11.to(device), kernel22.to(device), kernel12.to(device), \n",
    "                           emb_mean1.to(device), emb_mean2.to(device), n=len(tokenizer))\n",
    "    layer_size = param1.shape[0] // num_layers\n",
    "    S_agg = S.view(num_layers, layer_size, num_layers, layer_size).abs().mean([-1, -3]).cpu().numpy()\n",
    "    _, edges = linear_sum_assignment(-S_agg)\n",
    "    tmp_plot = torch.zeros(num_layers, num_layers)\n",
    "    tmp_plot[torch.arange(num_layers), edges] = 1\n",
    "    plt.subplot(2, 3, i+1)\n",
    "    plt.title(title)\n",
    "    sns.heatmap(tmp_plot, cbar=False)\n",
    "    plt.xticks([])\n",
    "    plt.yticks([])\n",
    "plt.savefig(\"artifacts/all_diagonals.pdf\")    "
   ]
  },
  {
   "cell_type": "code",
   "execution_count": null,
   "id": "60027716-58b8-4170-bfdf-7369dd099623",
   "metadata": {},
   "outputs": [
    {
     "data": {
      "application/vnd.jupyter.widget-view+json": {
       "model_id": "90ac532107da4903b4c4124a58b5caf2",
       "version_major": 2,
       "version_minor": 0
      },
      "text/plain": [
       "  0%|          | 0/6 [00:00<?, ?it/s]"
      ]
     },
     "metadata": {},
     "output_type": "display_data"
    },
    {
     "data": {
      "image/png": "[encoded data removed]",
      "text/plain": [
       "<Figure size 1080x612 with 6 Axes>"
      ]
     },
     "metadata": {},
     "output_type": "display_data"
    }
   ],
   "source": [
    "plt.figure(figsize=(15, 8.5))\n",
    "for i, (title, param1, param2) in enumerate(tqdm([(\"$K$\", K1, K2), (\"$V$\", V1, V2), (\"$W_K$\", WK1, WK2), \n",
    "                                                    (\"$W_Q$\", WQ1, WQ2), (\"$W_V$\", WV1, WV2), (\"$W_O$\", WO1, WO2)])):\n",
    "    S = corr_coef(param1.to(device), param2.to(device))\n",
    "    layer_size = param1.shape[0] // num_layers\n",
    "    S_agg = S.view(num_layers, layer_size, num_layers, layer_size).abs().mean([-1, -3]).cpu().numpy()\n",
    "    _, edges = linear_sum_assignment(-S_agg)\n",
    "    tmp_plot = torch.zeros(num_layers, num_layers)\n",
    "    tmp_plot[torch.arange(num_layers), edges] = 1\n",
    "    plt.subplot(2, 3, i+1)\n",
    "    plt.title(title)\n",
    "    sns.heatmap(tmp_plot, cbar=False)\n",
    "    plt.xticks([])\n",
    "    plt.yticks([])\n",
    "plt.savefig(\"artifacts/all_diagonals_raw.pdf\")    "
   ]
  },
  {
   "cell_type": "code",
   "execution_count": null,
   "id": "ddb9ac26-ca92-4d3b-aeb2-28b86bb8cf84",
   "metadata": {},
   "outputs": [],
   "source": []
  }
 ],
 "metadata": {
  "kernelspec": {
   "display_name": "Python 3",
   "language": "python",
   "name": "python3"
  },
  "language_info": {
   "codemirror_mode": {
    "name": "ipython",
    "version": 3
   },
   "file_extension": ".py",
   "mimetype": "text/x-python",
   "name": "python",
   "nbconvert_exporter": "python",
   "pygments_lexer": "ipython3",
   "version": "3.8.13"
  }
 },
 "nbformat": 4,
 "nbformat_minor": 5
}
